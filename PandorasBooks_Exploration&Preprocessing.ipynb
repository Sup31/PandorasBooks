{
  "cells": [
    {
      "cell_type": "code",
      "execution_count": null,
      "metadata": {
        "colab": {
          "base_uri": "https://localhost:8080/"
        },
        "id": "Ut7c9IHgnjXe",
        "outputId": "f80b5ff1-9c53-43a4-a931-9dde17866184"
      },
      "outputs": [
        {
          "output_type": "stream",
          "name": "stdout",
          "text": [
            "Mounted at /content/drive\n"
          ]
        }
      ],
      "source": [
        "#Importing Libraries\n",
        "\n",
        "import pandas as pd\n",
        "import numpy as np\n",
        "import csv\n",
        "import re\n",
        "import pickle\n",
        "import tqdm\n",
        "from collections import Counter\n",
        "import random\n",
        "import os\n",
        "\n",
        "import seaborn as sns\n",
        "\n",
        "from google.colab import drive\n",
        "drive.mount('/content/drive')"
      ]
    },
    {
      "cell_type": "code",
      "source": [
        "# with open('/content/drive/MyDrive/pandora.pkl', 'rb') as f:\n",
        "#      pandora = pickle.load(f)\n"
      ],
      "metadata": {
        "id": "BNqaJyDdu2ya"
      },
      "execution_count": null,
      "outputs": []
    },
    {
      "cell_type": "code",
      "execution_count": null,
      "metadata": {
        "colab": {
          "base_uri": "https://localhost:8080/",
          "height": 501
        },
        "id": "v5rVK7SVpqLE",
        "outputId": "c7865d12-1a43-4047-a138-eb2f7707514f"
      },
      "outputs": [
        {
          "output_type": "stream",
          "name": "stdout",
          "text": [
            "Number of Reddit author profiles: 10295\n",
            "Number of users with MBTI values: 9067\n",
            "Number of users with MBTI and gender values: 2684\n",
            "1568\n"
          ]
        },
        {
          "output_type": "display_data",
          "data": {
            "text/plain": [
              "<Figure size 640x480 with 1 Axes>"
            ],
            "image/png": "[encoded data removed]"
          },
          "metadata": {}
        }
      ],
      "source": [
        "#Loading Data\n",
        "user_df = pd.read_csv('/content/drive/MyDrive/author_profiles.csv', usecols = ['author', 'mbti', 'introverted', 'intuitive', 'thinking', 'perceiving',\n",
        "       'gender', 'age', 'enneagram', 'country', 'state', 'type',\n",
        "       'agreeableness', 'openness', 'conscientiousness', 'extraversion',\n",
        "       'neuroticism', 'num_comments', 'en_comments', 'is_female'])\n",
        "\n",
        "print('Number of Reddit author profiles: '+ str(len(user_df)))\n",
        "mbti_16 = ['intj', 'intp', 'infp', 'entp', 'istp', 'isfp', 'estj', 'istj', 'estp', 'isfj', 'enfp', 'esfp', 'esfj', 'enfj', 'infj', 'entj']\n",
        "ocean_5 = ['agreeableness', 'openness', 'conscientiousness', 'extraversion',\n",
        "       'neuroticism']\n",
        "#not_mbti=['xntp','xnfp','xnfx','inxj','xsfp','inxx','exxp','xnxj','intx','infx']\n",
        "mbti_df = user_df[user_df.mbti.isin(mbti_16) == True]\n",
        "gender_mbti_df = mbti_df.dropna(subset=['is_female'])\n",
        "mbti = mbti_df['mbti'].value_counts()\n",
        "print('Number of users with MBTI values: '+str(mbti.sum()))\n",
        "print('Number of users with MBTI and gender values: '+ str(len(gender_mbti_df)))\n",
        "sns.barplot(x=mbti.index, y=mbti.values)\n",
        "ocean_df = user_df.dropna(subset=['agreeableness', 'openness', 'conscientiousness', 'extraversion',\n",
        "       'neuroticism'])\n",
        "mbti_df = user_df.drop\n",
        "print(len(ocean_df))\n",
        "\n",
        "def get_user_mbti():\n",
        "    user = list(mbti_df['author'])\n",
        "    label = list(mbti_df['mbti'])\n",
        "    user_dict_mbti = {}\n",
        "    for i,t in enumerate(label):\n",
        "      user_dict_mbti['author'] = user[i]\n",
        "      user_dict_mbti['mbti'] = label[i]\n",
        "    return user_dict_mbti\n",
        "\n",
        "def get_user_mbti_gender():\n",
        "    user = list(gender_mbti_df['author'])\n",
        "    label = list(gender_mbti_df['mbti'])\n",
        "    gender_label = list(gender_mbti_df['is_female'])\n",
        "    user_dict_mbti_gender = {'author':[], 'mbti':[], 'gender_label':[]}\n",
        "    for i,t in enumerate(label):\n",
        "      user_dict_mbti_gender['author'].append(user[i])\n",
        "      user_dict_mbti_gender['mbti'].append(label[i])\n",
        "      user_dict_mbti_gender['gender_label'].append(gender_label[i])\n",
        "    return user_dict_mbti_gender\n",
        "\n",
        "def get_user_ocean(ocean_type):\n",
        "    user = list(ocean_df['author'])\n",
        "    label = list(ocean_df[ocean_type])\n",
        "    user_dict = {}\n",
        "    for i,t in enumerate(user):\n",
        "            user_dict[user[i]]= label[i]\n",
        "    return user_dict\n",
        "\n",
        "\n",
        "user_dict_mbti_gender = get_user_mbti_gender()\n",
        "user_dict_agreeablness = get_user_ocean('agreeableness')\n",
        "user_dict_openness = get_user_ocean('openness')\n",
        "user_dict_conscientiousness = get_user_ocean('conscientiousness')\n",
        "user_dict_extraversion = get_user_ocean('extraversion')\n",
        "user_dict_neuroticism = get_user_ocean('neuroticism')\n",
        "\n",
        "\n"
      ]
    },
    {
      "cell_type": "code",
      "source": [
        "print(user_dict_mbti_gender['gender_label'][0])"
      ],
      "metadata": {
        "colab": {
          "base_uri": "https://localhost:8080/"
        },
        "id": "t2lmYMNCE7Yj",
        "outputId": "2bf462ff-9969-4893-dfdd-14725a778a6b"
      },
      "execution_count": null,
      "outputs": [
        {
          "output_type": "stream",
          "name": "stdout",
          "text": [
            "0.0\n"
          ]
        }
      ]
    },
    {
      "cell_type": "code",
      "execution_count": null,
      "metadata": {
        "colab": {
          "base_uri": "https://localhost:8080/",
          "height": 622
        },
        "id": "CDsZr6WcqRoJ",
        "outputId": "0c612f6a-e24e-4b63-9d58-49580fa10206"
      },
      "outputs": [
        {
          "output_type": "stream",
          "name": "stderr",
          "text": [
            "<ipython-input-3-f5dfe726ea8a>:3: SettingWithCopyWarning: \n",
            "A value is trying to be set on a copy of a slice from a DataFrame\n",
            "\n",
            "See the caveats in the documentation: https://pandas.pydata.org/pandas-docs/stable/user_guide/indexing.html#returning-a-view-versus-a-copy\n",
            "  subreddits_df['number'] .iloc[0] = subreddits_df['start'].iloc[0]\n",
            "<ipython-input-3-f5dfe726ea8a>:4: SettingWithCopyWarning: \n",
            "A value is trying to be set on a copy of a slice from a DataFrame\n",
            "\n",
            "See the caveats in the documentation: https://pandas.pydata.org/pandas-docs/stable/user_guide/indexing.html#returning-a-view-versus-a-copy\n",
            "  subreddits_df['number'].iloc[1:]=subreddits_df['start'].shift(-1).iloc[1:]- subreddits_df['start'].iloc[1:]\n"
          ]
        },
        {
          "output_type": "execute_result",
          "data": {
            "text/plain": [
              "        subreddit   number\n",
              "0            entp      5.0\n",
              "1            mbti      2.0\n",
              "2      shittyMBTI     45.0\n",
              "3            intj     23.0\n",
              "4            ENFP      5.0\n",
              "..            ...      ...\n",
              "97        INTPhad  40071.0\n",
              "98          infj_  44934.0\n",
              "99        INTP5w4  26968.0\n",
              "100  INFP_Success   4030.0\n",
              "101       2X_INTP      NaN\n",
              "\n",
              "[102 rows x 2 columns]"
            ],
            "text/html": [
              "\n",
              "\n",
              "  <div id=\"df-8a86893c-d508-4330-8395-a8ea99e21850\">\n",
              "    <div class=\"colab-df-container\">\n",
              "      <div>\n",
              "<style scoped>\n",
              "    .dataframe tbody tr th:only-of-type {\n",
              "        vertical-align: middle;\n",
              "    }\n",
              "\n",
              "    .dataframe tbody tr th {\n",
              "        vertical-align: top;\n",
              "    }\n",
              "\n",
              "    .dataframe thead th {\n",
              "        text-align: right;\n",
              "    }\n",
              "</style>\n",
              "<table border=\"1\" class=\"dataframe\">\n",
              "  <thead>\n",
              "    <tr style=\"text-align: right;\">\n",
              "      <th></th>\n",
              "      <th>subreddit</th>\n",
              "      <th>number</th>\n",
              "    </tr>\n",
              "  </thead>\n",
              "  <tbody>\n",
              "    <tr>\n",
              "      <th>0</th>\n",
              "      <td>entp</td>\n",
              "      <td>5.0</td>\n",
              "    </tr>\n",
              "    <tr>\n",
              "      <th>1</th>\n",
              "      <td>mbti</td>\n",
              "      <td>2.0</td>\n",
              "    </tr>\n",
              "    <tr>\n",
              "      <th>2</th>\n",
              "      <td>shittyMBTI</td>\n",
              "      <td>45.0</td>\n",
              "    </tr>\n",
              "    <tr>\n",
              "      <th>3</th>\n",
              "      <td>intj</td>\n",
              "      <td>23.0</td>\n",
              "    </tr>\n",
              "    <tr>\n",
              "      <th>4</th>\n",
              "      <td>ENFP</td>\n",
              "      <td>5.0</td>\n",
              "    </tr>\n",
              "    <tr>\n",
              "      <th>...</th>\n",
              "      <td>...</td>\n",
              "      <td>...</td>\n",
              "    </tr>\n",
              "    <tr>\n",
              "      <th>97</th>\n",
              "      <td>INTPhad</td>\n",
              "      <td>40071.0</td>\n",
              "    </tr>\n",
              "    <tr>\n",
              "      <th>98</th>\n",
              "      <td>infj_</td>\n",
              "      <td>44934.0</td>\n",
              "    </tr>\n",
              "    <tr>\n",
              "      <th>99</th>\n",
              "      <td>INTP5w4</td>\n",
              "      <td>26968.0</td>\n",
              "    </tr>\n",
              "    <tr>\n",
              "      <th>100</th>\n",
              "      <td>INFP_Success</td>\n",
              "      <td>4030.0</td>\n",
              "    </tr>\n",
              "    <tr>\n",
              "      <th>101</th>\n",
              "      <td>2X_INTP</td>\n",
              "      <td>NaN</td>\n",
              "    </tr>\n",
              "  </tbody>\n",
              "</table>\n",
              "<p>102 rows × 2 columns</p>\n",
              "</div>\n",
              "      <button class=\"colab-df-convert\" onclick=\"convertToInteractive('df-8a86893c-d508-4330-8395-a8ea99e21850')\"\n",
              "              title=\"Convert this dataframe to an interactive table.\"\n",
              "              style=\"display:none;\">\n",
              "\n",
              "  <svg xmlns=\"http://www.w3.org/2000/svg\" height=\"24px\"viewBox=\"0 0 24 24\"\n",
              "       width=\"24px\">\n",
              "    <path d=\"M0 0h24v24H0V0z\" fill=\"none\"/>\n",
              "    <path d=\"M18.56 5.44l.94 2.06.94-2.06 2.06-.94-2.06-.94-.94-2.06-.94 2.06-2.06.94zm-11 1L8.5 8.5l.94-2.06 2.06-.94-2.06-.94L8.5 2.5l-.94 2.06-2.06.94zm10 10l.94 2.06.94-2.06 2.06-.94-2.06-.94-.94-2.06-.94 2.06-2.06.94z\"/><path d=\"M17.41 7.96l-1.37-1.37c-.4-.4-.92-.59-1.43-.59-.52 0-1.04.2-1.43.59L10.3 9.45l-7.72 7.72c-.78.78-.78 2.05 0 2.83L4 21.41c.39.39.9.59 1.41.59.51 0 1.02-.2 1.41-.59l7.78-7.78 2.81-2.81c.8-.78.8-2.07 0-2.86zM5.41 20L4 18.59l7.72-7.72 1.47 1.35L5.41 20z\"/>\n",
              "  </svg>\n",
              "      </button>\n",
              "\n",
              "\n",
              "\n",
              "    <div id=\"df-8444340b-cdfa-43d6-b7db-c6972a4125a1\">\n",
              "      <button class=\"colab-df-quickchart\" onclick=\"quickchart('df-8444340b-cdfa-43d6-b7db-c6972a4125a1')\"\n",
              "              title=\"Suggest charts.\"\n",
              "              style=\"display:none;\">\n",
              "\n",
              "<svg xmlns=\"http://www.w3.org/2000/svg\" height=\"24px\"viewBox=\"0 0 24 24\"\n",
              "     width=\"24px\">\n",
              "    <g>\n",
              "        <path d=\"M19 3H5c-1.1 0-2 .9-2 2v14c0 1.1.9 2 2 2h14c1.1 0 2-.9 2-2V5c0-1.1-.9-2-2-2zM9 17H7v-7h2v7zm4 0h-2V7h2v10zm4 0h-2v-4h2v4z\"/>\n",
              "    </g>\n",
              "</svg>\n",
              "      </button>\n",
              "    </div>\n",
              "\n",
              "<style>\n",
              "  .colab-df-quickchart {\n",
              "    background-color: #E8F0FE;\n",
              "    border: none;\n",
              "    border-radius: 50%;\n",
              "    cursor: pointer;\n",
              "    display: none;\n",
              "    fill: #1967D2;\n",
              "    height: 32px;\n",
              "    padding: 0 0 0 0;\n",
              "    width: 32px;\n",
              "  }\n",
              "\n",
              "  .colab-df-quickchart:hover {\n",
              "    background-color: #E2EBFA;\n",
              "    box-shadow: 0px 1px 2px rgba(60, 64, 67, 0.3), 0px 1px 3px 1px rgba(60, 64, 67, 0.15);\n",
              "    fill: #174EA6;\n",
              "  }\n",
              "\n",
              "  [theme=dark] .colab-df-quickchart {\n",
              "    background-color: #3B4455;\n",
              "    fill: #D2E3FC;\n",
              "  }\n",
              "\n",
              "  [theme=dark] .colab-df-quickchart:hover {\n",
              "    background-color: #434B5C;\n",
              "    box-shadow: 0px 1px 3px 1px rgba(0, 0, 0, 0.15);\n",
              "    filter: drop-shadow(0px 1px 2px rgba(0, 0, 0, 0.3));\n",
              "    fill: #FFFFFF;\n",
              "  }\n",
              "</style>\n",
              "\n",
              "    <script>\n",
              "      async function quickchart(key) {\n",
              "        const containerElement = document.querySelector('#' + key);\n",
              "        const charts = await google.colab.kernel.invokeFunction(\n",
              "            'suggestCharts', [key], {});\n",
              "      }\n",
              "    </script>\n",
              "\n",
              "      <script>\n",
              "\n",
              "function displayQuickchartButton(domScope) {\n",
              "  let quickchartButtonEl =\n",
              "    domScope.querySelector('#df-8444340b-cdfa-43d6-b7db-c6972a4125a1 button.colab-df-quickchart');\n",
              "  quickchartButtonEl.style.display =\n",
              "    google.colab.kernel.accessAllowed ? 'block' : 'none';\n",
              "}\n",
              "\n",
              "        displayQuickchartButton(document);\n",
              "      </script>\n",
              "      <style>\n",
              "    .colab-df-container {\n",
              "      display:flex;\n",
              "      flex-wrap:wrap;\n",
              "      gap: 12px;\n",
              "    }\n",
              "\n",
              "    .colab-df-convert {\n",
              "      background-color: #E8F0FE;\n",
              "      border: none;\n",
              "      border-radius: 50%;\n",
              "      cursor: pointer;\n",
              "      display: none;\n",
              "      fill: #1967D2;\n",
              "      height: 32px;\n",
              "      padding: 0 0 0 0;\n",
              "      width: 32px;\n",
              "    }\n",
              "\n",
              "    .colab-df-convert:hover {\n",
              "      background-color: #E2EBFA;\n",
              "      box-shadow: 0px 1px 2px rgba(60, 64, 67, 0.3), 0px 1px 3px 1px rgba(60, 64, 67, 0.15);\n",
              "      fill: #174EA6;\n",
              "    }\n",
              "\n",
              "    [theme=dark] .colab-df-convert {\n",
              "      background-color: #3B4455;\n",
              "      fill: #D2E3FC;\n",
              "    }\n",
              "\n",
              "    [theme=dark] .colab-df-convert:hover {\n",
              "      background-color: #434B5C;\n",
              "      box-shadow: 0px 1px 3px 1px rgba(0, 0, 0, 0.15);\n",
              "      filter: drop-shadow(0px 1px 2px rgba(0, 0, 0, 0.3));\n",
              "      fill: #FFFFFF;\n",
              "    }\n",
              "  </style>\n",
              "\n",
              "      <script>\n",
              "        const buttonEl =\n",
              "          document.querySelector('#df-8a86893c-d508-4330-8395-a8ea99e21850 button.colab-df-convert');\n",
              "        buttonEl.style.display =\n",
              "          google.colab.kernel.accessAllowed ? 'block' : 'none';\n",
              "\n",
              "        async function convertToInteractive(key) {\n",
              "          const element = document.querySelector('#df-8a86893c-d508-4330-8395-a8ea99e21850');\n",
              "          const dataTable =\n",
              "            await google.colab.kernel.invokeFunction('convertToInteractive',\n",
              "                                                     [key], {});\n",
              "          if (!dataTable) return;\n",
              "\n",
              "          const docLinkHtml = 'Like what you see? Visit the ' +\n",
              "            '<a target=\"_blank\" href=https://colab.research.google.com/notebooks/data_table.ipynb>data table notebook</a>'\n",
              "            + ' to learn more about interactive tables.';\n",
              "          element.innerHTML = '';\n",
              "          dataTable['output_type'] = 'display_data';\n",
              "          await google.colab.output.renderOutput(dataTable, element);\n",
              "          const docLink = document.createElement('div');\n",
              "          docLink.innerHTML = docLinkHtml;\n",
              "          element.appendChild(docLink);\n",
              "        }\n",
              "      </script>\n",
              "    </div>\n",
              "  </div>\n"
            ]
          },
          "metadata": {},
          "execution_count": 3
        }
      ],
      "source": [
        "subreddits_df = pd.read_csv('/content/drive/MyDrive/subreddits_mbti.csv', names =['start','subreddit'])\n",
        "subreddits_df['number'] =0\n",
        "subreddits_df['number'] .iloc[0] = subreddits_df['start'].iloc[0]\n",
        "subreddits_df['number'].iloc[1:]=subreddits_df['start'].shift(-1).iloc[1:]- subreddits_df['start'].iloc[1:]\n",
        "subreddits_df.head()\n",
        "subreddits_df.drop('start', axis=1)"
      ]
    },
    {
      "cell_type": "code",
      "execution_count": null,
      "metadata": {
        "colab": {
          "base_uri": "https://localhost:8080/",
          "height": 799
        },
        "id": "EdZZNKT3_fjg",
        "outputId": "66feb5df-b99d-4821-cb25-c7b9dc8695cb"
      },
      "outputs": [
        {
          "output_type": "stream",
          "name": "stdout",
          "text": [
            "Number of sub-reddits: 102\n"
          ]
        },
        {
          "output_type": "display_data",
          "data": {
            "text/plain": [
              "<Figure size 600x900 with 1 Axes>"
            ],
            "image/png": "[encoded data removed]"
          },
          "metadata": {}
        }
      ],
      "source": [
        "import matplotlib.pyplot as plt\n",
        "print(\"Number of sub-reddits: \" + str(len(subreddits_df)))\n",
        "\n",
        "\n",
        "sns.set_theme(style=\"whitegrid\")\n",
        "\n",
        "# Initialize the matplotlib figure\n",
        "f, ax = plt.subplots(figsize=(6, 9))\n",
        "\n",
        "# Load the example car crash dataset\n",
        "\n",
        "# Plot the total crashes\n",
        "#sns.set_color_codes(\"pastel\")\n",
        "sns.barplot(x='number', y='subreddit', data=subreddits_df.nlargest(30, 'number'),orient='h', width=0.8)\n",
        "\n",
        "# Plot the crashes where alcohol was involved\n",
        "\n",
        "\n",
        "# Add a legend and informative axis label\n",
        "ax.set(xlabel=\"Number of Comments\", ylabel= \"Subreddits\")\n",
        "sns.despine(left=True, bottom=True)"
      ]
    },
    {
      "cell_type": "code",
      "execution_count": null,
      "metadata": {
        "id": "6gpzUV4sCjIA"
      },
      "outputs": [],
      "source": [
        "#data = pd.read_csv('/content/drive/MyDrive/all_comments_since_2015.csv')\n",
        "#user = list(data['author'])\n",
        "#text = list(data['body'])\n",
        "#a = []\n",
        "#while 1:\n",
        "#    a.append(\"1\")\n",
        "userlist =[]\n",
        "textlist=[]\n",
        "total_num_comments = 0\n",
        "num_chunk = 0\n",
        "def process_chunk(chunk, i):\n",
        "    userlist.append(list(chunk['author']))\n",
        "    textlist.append(list(chunk['body']))\n",
        "    return len(chunk)\n",
        "    # do something useful ...\n",
        "\n",
        "chunksize = 10**6\n",
        "for chunk in pd.read_csv('/content/drive/MyDrive/all_comments_since_2015.csv', chunksize=chunksize):\n",
        "  process_chunk(chunk, num_chunk)\n",
        "  total_num_comments = total_num_comments +len(chunk)\n",
        "  num_chunk = num_chunk+1\n",
        "\n",
        "\n"
      ]
    },
    {
      "cell_type": "code",
      "execution_count": null,
      "metadata": {
        "colab": {
          "base_uri": "https://localhost:8080/"
        },
        "id": "xbPQY_cyTp7a",
        "outputId": "238d63d8-f707-435a-84b5-4070d6bd6f84"
      },
      "outputs": [
        {
          "output_type": "stream",
          "name": "stdout",
          "text": [
            "9067\n",
            "17640062\n",
            "<class 'dict_keys'>\n",
            "92.0\n"
          ]
        }
      ],
      "source": [
        "users =[]\n",
        "for user in userlist:\n",
        "  users.extend(user)\n",
        "comments =[]\n",
        "for text in textlist:\n",
        "  comments.extend(text)\n",
        "print(len(user_dict_mbti))\n",
        "print(len(comments))\n",
        "print(type(user_dict_openness.keys()))\n",
        "print(user_dict_openness['-BigSexy-'])\n"
      ]
    },
    {
      "cell_type": "code",
      "execution_count": null,
      "metadata": {
        "colab": {
          "base_uri": "https://localhost:8080/"
        },
        "id": "pls3Kkwo-8CP",
        "outputId": "f2fbaf28-ec2e-4c3e-f9fd-55fbeb064e6c"
      },
      "outputs": [
        {
          "output_type": "stream",
          "name": "stdout",
          "text": [
            "MetricExpansion\n",
            "1000000\n"
          ]
        }
      ],
      "source": [
        "# For subset of data\n",
        "users =[]\n",
        "\n",
        "users.extend(userlist[0])\n",
        "print(users[0])\n",
        "comments =[]\n",
        "comments.extend(textlist[0])\n",
        "print(len(comments))\n"
      ]
    },
    {
      "cell_type": "code",
      "execution_count": null,
      "metadata": {
        "id": "0ZpCwtpvLHce"
      },
      "outputs": [],
      "source": [
        "#36 minutes to run completely\n",
        "def find_all_MBTIs(post, mbti):\n",
        "    return [(match.start(), match.end()) for match in re.finditer(mbti, post)]\n",
        "reg_link = re.compile('http\\S+', flags=re.MULTILINE)\n",
        "token = ''  # '' or '<mask>'\n",
        "posts = {'annotations':[], 'posts_text':[], 'posts_num':[], 'max_len':[], 'users':[], 'gender':[]}\n",
        "for i,t in enumerate(users):\n",
        "    if t in user_dict_mbti_gender['author']:\n",
        "        if t not in posts['users']: # new user\n",
        "            index = user_dict_mbti_gender['author'].index(t)\n",
        "            posts['users'].append(t)\n",
        "            posts['posts_text'].append([])\n",
        "            posts['annotations'].append(user_dict_mbti_gender['mbti'][index].upper())\n",
        "            posts['max_len'].append(0)\n",
        "            posts['posts_num'].append(0)\n",
        "            posts['gender'].append(user_dict_mbti_gender['gender_label'][index])\n",
        "        user_id = posts['users'].index(t)\n",
        "\n",
        "        filter_text = reg_link.sub('', comments[i])\n",
        "        if filter_text != '':\n",
        "            for mbti in mbti_16:\n",
        "                mbti_idx_list = find_all_MBTIs(filter_text.lower(), mbti.lower())\n",
        "                delete_idx = 0\n",
        "                for start, end in mbti_idx_list:\n",
        "                    filter_text = filter_text[:start - delete_idx] + token + filter_text[end - delete_idx:]\n",
        "                    delete_idx += end - start + len(token)\n",
        "            post_len = len(filter_text.split(' '))\n",
        "            posts['posts_text'][user_id].append(filter_text)\n",
        "            if posts['max_len'][user_id] < post_len:\n",
        "                posts['max_len'][user_id] = post_len\n",
        "            posts['posts_num'][user_id] += 1\n",
        "\n",
        "\n",
        "label_lookup = {'E': 0, 'I': 1, 'S': 0, 'N':1, 'T': 0, 'F': 1, 'J': 0, 'P':1}\n",
        "types = posts['annotations']"
      ]
    },
    {
      "cell_type": "code",
      "source": [
        "\n",
        "with open('pandora_gender.pkl', 'wb') as f:\n",
        "    pickle.dump(posts, f)"
      ],
      "metadata": {
        "id": "cFOmCAbyZiH9"
      },
      "execution_count": null,
      "outputs": []
    },
    {
      "cell_type": "code",
      "source": [
        "aggregated_posts_text =[]\n",
        "posts_text = posts['posts_text']\n",
        "for i in range(len(posts_text)):\n",
        "  aggregated_posts_text.append(' '.join(posts_text[i]))"
      ],
      "metadata": {
        "id": "dtIhOp4galMh"
      },
      "execution_count": null,
      "outputs": []
    },
    {
      "cell_type": "code",
      "source": [
        "\n",
        "# with open('/content/drive/MyDrive/pandora.pkl', 'rb') as f:\n",
        "#     pandora = pickle.load(f)\n",
        "annotations = posts['annotations']\n",
        "posts_text = posts['posts_text']\n",
        "posts_num =  posts['posts_num']\n",
        "gender = posts['gender']\n",
        "user_num = len(annotations)\n",
        "user_ids = list(range(user_num))\n",
        "random.shuffle(user_ids)\n",
        "\n",
        "train_ids, test_ids = user_ids[:int(0.8 * user_num)], user_ids[int(0.8 * user_num):]\n",
        "train_text, train_num, train_annotations, train_gender = [aggregated_posts_text[i] for i in train_ids],[posts_num[i] for i in train_ids],[annotations[i] for i in train_ids], [gender[i] for i in train_ids]\n",
        "test_text, test_num, test_annotations, test_gender = [aggregated_posts_text[i] for i in test_ids],[posts_num[i]for i in test_ids],[annotations[i] for i in test_ids], [gender[i] for i in test_ids]"
      ],
      "metadata": {
        "id": "ssB_YLbdLRTV"
      },
      "execution_count": null,
      "outputs": []
    },
    {
      "cell_type": "code",
      "source": [
        "result_path = \"/content/drive/MyDrive\"\n",
        "def save_data(posts_text, posts_num, annotations, gender, result_path, option):\n",
        "    with open(os.path.join(result_path, option + '.pkl'), 'wb') as f:\n",
        "        data = {'posts_text':posts_text, 'posts_num':posts_num, 'annotations':annotations, 'gender': gender}\n",
        "        pickle.dump(data, f)\n",
        "\n",
        "save_data(train_text, train_num, train_annotations, train_gender, result_path, 'train_new_gender')\n",
        "save_data(test_text, test_num, test_annotations, test_gender, result_path, 'test_new_gender')"
      ],
      "metadata": {
        "id": "OnWGmqX3bU0E"
      },
      "execution_count": null,
      "outputs": []
    },
    {
      "cell_type": "code",
      "execution_count": null,
      "metadata": {
        "colab": {
          "base_uri": "https://localhost:8080/",
          "height": 515
        },
        "id": "_-SK5Kzgs0yw",
        "outputId": "41c98ee6-b08f-4f6a-df29-ee907f2f8ade"
      },
      "outputs": [
        {
          "output_type": "stream",
          "name": "stdout",
          "text": [
            "9067\n",
            "9067\n",
            "1\n",
            "9067\n"
          ]
        },
        {
          "output_type": "display_data",
          "data": {
            "text/plain": [
              "<Figure size 1000x500 with 1 Axes>"
            ],
            "image/png": "[encoded data removed]"
          },
          "metadata": {}
        }
      ],
      "source": [
        "print(len(posts.get('users')))\n",
        "print(len(posts.get('posts_text')))\n",
        "print((min(posts.get('posts_num'))))\n",
        "print(len((posts.get('max_len'))))\n",
        "plt.figure(figsize=(10,5))\n",
        "plt.xlim(0,1000)\n",
        "plt.xlabel('Number of Comments')\n",
        "plt.ylabel('Users')\n",
        "sns.histplot(posts.get('posts_num'),bins=10000,kde=False)\n",
        "plt.show()"
      ]
    }
  ],
  "metadata": {
    "colab": {
      "provenance": []
    },
    "gpuClass": "standard",
    "kernelspec": {
      "display_name": "Python 3",
      "name": "python3"
    },
    "language_info": {
      "name": "python"
    }
  },
  "nbformat": 4,
  "nbformat_minor": 0
}