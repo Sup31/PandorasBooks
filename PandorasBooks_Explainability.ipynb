{
  "nbformat": 4,
  "nbformat_minor": 0,
  "metadata": {
    "colab": {
      "provenance": [],
      "gpuType": "T4"
    },
    "kernelspec": {
      "name": "python3",
      "display_name": "Python 3"
    },
    "language_info": {
      "name": "python"
    },
    "accelerator": "GPU",
    "widgets": {
      "application/vnd.jupyter.widget-state+json": {
        "86a816fcd0024b7ebc781f167ad7ebca": {
          "model_module": "@jupyter-widgets/controls",
          "model_name": "HBoxModel",
          "model_module_version": "1.5.0",
          "state": {
            "_dom_classes": [],
            "_model_module": "@jupyter-widgets/controls",
            "_model_module_version": "1.5.0",
            "_model_name": "HBoxModel",
            "_view_count": null,
            "_view_module": "@jupyter-widgets/controls",
            "_view_module_version": "1.5.0",
            "_view_name": "HBoxView",
            "box_style": "",
            "children": [
              "IPY_MODEL_8015daf0d1a043bda879c5229b1b61ef",
              "IPY_MODEL_84db1d822c3e46a88baa2cc72c05f08d",
              "IPY_MODEL_0afe69d81f8b49d3bc1c6b5b642ffb85"
            ],
            "layout": "IPY_MODEL_5d8dcd26da054d798e91f6fd453dd883"
          }
        },
        "8015daf0d1a043bda879c5229b1b61ef": {
          "model_module": "@jupyter-widgets/controls",
          "model_name": "HTMLModel",
          "model_module_version": "1.5.0",
          "state": {
            "_dom_classes": [],
            "_model_module": "@jupyter-widgets/controls",
            "_model_module_version": "1.5.0",
            "_model_name": "HTMLModel",
            "_view_count": null,
            "_view_module": "@jupyter-widgets/controls",
            "_view_module_version": "1.5.0",
            "_view_name": "HTMLView",
            "description": "",
            "description_tooltip": null,
            "layout": "IPY_MODEL_806c34331bf44b428c252a08f50ee2d3",
            "placeholder": "​",
            "style": "IPY_MODEL_ffcc19a4ba254408a23611b2f8eb7857",
            "value": "Downloading model.safetensors: 100%"
          }
        },
        "84db1d822c3e46a88baa2cc72c05f08d": {
          "model_module": "@jupyter-widgets/controls",
          "model_name": "FloatProgressModel",
          "model_module_version": "1.5.0",
          "state": {
            "_dom_classes": [],
            "_model_module": "@jupyter-widgets/controls",
            "_model_module_version": "1.5.0",
            "_model_name": "FloatProgressModel",
            "_view_count": null,
            "_view_module": "@jupyter-widgets/controls",
            "_view_module_version": "1.5.0",
            "_view_name": "ProgressView",
            "bar_style": "success",
            "description": "",
            "description_tooltip": null,
            "layout": "IPY_MODEL_1da29735ebf14e5d996494b9a1e9c204",
            "max": 435755784,
            "min": 0,
            "orientation": "horizontal",
            "style": "IPY_MODEL_49f65ca722ff4bd094493605a02abaa6",
            "value": 435755784
          }
        },
        "0afe69d81f8b49d3bc1c6b5b642ffb85": {
          "model_module": "@jupyter-widgets/controls",
          "model_name": "HTMLModel",
          "model_module_version": "1.5.0",
          "state": {
            "_dom_classes": [],
            "_model_module": "@jupyter-widgets/controls",
            "_model_module_version": "1.5.0",
            "_model_name": "HTMLModel",
            "_view_count": null,
            "_view_module": "@jupyter-widgets/controls",
            "_view_module_version": "1.5.0",
            "_view_name": "HTMLView",
            "description": "",
            "description_tooltip": null,
            "layout": "IPY_MODEL_0d4aef9172e54cc7a18c2f788c747155",
            "placeholder": "​",
            "style": "IPY_MODEL_4446b95ea7274e1a836f856529fc0927",
            "value": " 436M/436M [00:07&lt;00:00, 53.2MB/s]"
          }
        },
        "5d8dcd26da054d798e91f6fd453dd883": {
          "model_module": "@jupyter-widgets/base",
          "model_name": "LayoutModel",
          "model_module_version": "1.2.0",
          "state": {
            "_model_module": "@jupyter-widgets/base",
            "_model_module_version": "1.2.0",
            "_model_name": "LayoutModel",
            "_view_count": null,
            "_view_module": "@jupyter-widgets/base",
            "_view_module_version": "1.2.0",
            "_view_name": "LayoutView",
            "align_content": null,
            "align_items": null,
            "align_self": null,
            "border": null,
            "bottom": null,
            "display": null,
            "flex": null,
            "flex_flow": null,
            "grid_area": null,
            "grid_auto_columns": null,
            "grid_auto_flow": null,
            "grid_auto_rows": null,
            "grid_column": null,
            "grid_gap": null,
            "grid_row": null,
            "grid_template_areas": null,
            "grid_template_columns": null,
            "grid_template_rows": null,
            "height": null,
            "justify_content": null,
            "justify_items": null,
            "left": null,
            "margin": null,
            "max_height": null,
            "max_width": null,
            "min_height": null,
            "min_width": null,
            "object_fit": null,
            "object_position": null,
            "order": null,
            "overflow": null,
            "overflow_x": null,
            "overflow_y": null,
            "padding": null,
            "right": null,
            "top": null,
            "visibility": null,
            "width": null
          }
        },
        "806c34331bf44b428c252a08f50ee2d3": {
          "model_module": "@jupyter-widgets/base",
          "model_name": "LayoutModel",
          "model_module_version": "1.2.0",
          "state": {
            "_model_module": "@jupyter-widgets/base",
            "_model_module_version": "1.2.0",
            "_model_name": "LayoutModel",
            "_view_count": null,
            "_view_module": "@jupyter-widgets/base",
            "_view_module_version": "1.2.0",
            "_view_name": "LayoutView",
            "align_content": null,
            "align_items": null,
            "align_self": null,
            "border": null,
            "bottom": null,
            "display": null,
            "flex": null,
            "flex_flow": null,
            "grid_area": null,
            "grid_auto_columns": null,
            "grid_auto_flow": null,
            "grid_auto_rows": null,
            "grid_column": null,
            "grid_gap": null,
            "grid_row": null,
            "grid_template_areas": null,
            "grid_template_columns": null,
            "grid_template_rows": null,
            "height": null,
            "justify_content": null,
            "justify_items": null,
            "left": null,
            "margin": null,
            "max_height": null,
            "max_width": null,
            "min_height": null,
            "min_width": null,
            "object_fit": null,
            "object_position": null,
            "order": null,
            "overflow": null,
            "overflow_x": null,
            "overflow_y": null,
            "padding": null,
            "right": null,
            "top": null,
            "visibility": null,
            "width": null
          }
        },
        "ffcc19a4ba254408a23611b2f8eb7857": {
          "model_module": "@jupyter-widgets/controls",
          "model_name": "DescriptionStyleModel",
          "model_module_version": "1.5.0",
          "state": {
            "_model_module": "@jupyter-widgets/controls",
            "_model_module_version": "1.5.0",
            "_model_name": "DescriptionStyleModel",
            "_view_count": null,
            "_view_module": "@jupyter-widgets/base",
            "_view_module_version": "1.2.0",
            "_view_name": "StyleView",
            "description_width": ""
          }
        },
        "1da29735ebf14e5d996494b9a1e9c204": {
          "model_module": "@jupyter-widgets/base",
          "model_name": "LayoutModel",
          "model_module_version": "1.2.0",
          "state": {
            "_model_module": "@jupyter-widgets/base",
            "_model_module_version": "1.2.0",
            "_model_name": "LayoutModel",
            "_view_count": null,
            "_view_module": "@jupyter-widgets/base",
            "_view_module_version": "1.2.0",
            "_view_name": "LayoutView",
            "align_content": null,
            "align_items": null,
            "align_self": null,
            "border": null,
            "bottom": null,
            "display": null,
            "flex": null,
            "flex_flow": null,
            "grid_area": null,
            "grid_auto_columns": null,
            "grid_auto_flow": null,
            "grid_auto_rows": null,
            "grid_column": null,
            "grid_gap": null,
            "grid_row": null,
            "grid_template_areas": null,
            "grid_template_columns": null,
            "grid_template_rows": null,
            "height": null,
            "justify_content": null,
            "justify_items": null,
            "left": null,
            "margin": null,
            "max_height": null,
            "max_width": null,
            "min_height": null,
            "min_width": null,
            "object_fit": null,
            "object_position": null,
            "order": null,
            "overflow": null,
            "overflow_x": null,
            "overflow_y": null,
            "padding": null,
            "right": null,
            "top": null,
            "visibility": null,
            "width": null
          }
        },
        "49f65ca722ff4bd094493605a02abaa6": {
          "model_module": "@jupyter-widgets/controls",
          "model_name": "ProgressStyleModel",
          "model_module_version": "1.5.0",
          "state": {
            "_model_module": "@jupyter-widgets/controls",
            "_model_module_version": "1.5.0",
            "_model_name": "ProgressStyleModel",
            "_view_count": null,
            "_view_module": "@jupyter-widgets/base",
            "_view_module_version": "1.2.0",
            "_view_name": "StyleView",
            "bar_color": null,
            "description_width": ""
          }
        },
        "0d4aef9172e54cc7a18c2f788c747155": {
          "model_module": "@jupyter-widgets/base",
          "model_name": "LayoutModel",
          "model_module_version": "1.2.0",
          "state": {
            "_model_module": "@jupyter-widgets/base",
            "_model_module_version": "1.2.0",
            "_model_name": "LayoutModel",
            "_view_count": null,
            "_view_module": "@jupyter-widgets/base",
            "_view_module_version": "1.2.0",
            "_view_name": "LayoutView",
            "align_content": null,
            "align_items": null,
            "align_self": null,
            "border": null,
            "bottom": null,
            "display": null,
            "flex": null,
            "flex_flow": null,
            "grid_area": null,
            "grid_auto_columns": null,
            "grid_auto_flow": null,
            "grid_auto_rows": null,
            "grid_column": null,
            "grid_gap": null,
            "grid_row": null,
            "grid_template_areas": null,
            "grid_template_columns": null,
            "grid_template_rows": null,
            "height": null,
            "justify_content": null,
            "justify_items": null,
            "left": null,
            "margin": null,
            "max_height": null,
            "max_width": null,
            "min_height": null,
            "min_width": null,
            "object_fit": null,
            "object_position": null,
            "order": null,
            "overflow": null,
            "overflow_x": null,
            "overflow_y": null,
            "padding": null,
            "right": null,
            "top": null,
            "visibility": null,
            "width": null
          }
        },
        "4446b95ea7274e1a836f856529fc0927": {
          "model_module": "@jupyter-widgets/controls",
          "model_name": "DescriptionStyleModel",
          "model_module_version": "1.5.0",
          "state": {
            "_model_module": "@jupyter-widgets/controls",
            "_model_module_version": "1.5.0",
            "_model_name": "DescriptionStyleModel",
            "_view_count": null,
            "_view_module": "@jupyter-widgets/base",
            "_view_module_version": "1.2.0",
            "_view_name": "StyleView",
            "description_width": ""
          }
        },
        "0dea1cd4f2e242e2a87b6139105e5ec3": {
          "model_module": "@jupyter-widgets/controls",
          "model_name": "HBoxModel",
          "model_module_version": "1.5.0",
          "state": {
            "_dom_classes": [],
            "_model_module": "@jupyter-widgets/controls",
            "_model_module_version": "1.5.0",
            "_model_name": "HBoxModel",
            "_view_count": null,
            "_view_module": "@jupyter-widgets/controls",
            "_view_module_version": "1.5.0",
            "_view_name": "HBoxView",
            "box_style": "",
            "children": [
              "IPY_MODEL_54e063cd8f034715af86d968707e55dd",
              "IPY_MODEL_acd628552d864a8d8f6ee7738fac50ef",
              "IPY_MODEL_91567bf6b2554eb299ce701857fbeede"
            ],
            "layout": "IPY_MODEL_2dc1bbec4fa04559a873af38b86bf812"
          }
        },
        "54e063cd8f034715af86d968707e55dd": {
          "model_module": "@jupyter-widgets/controls",
          "model_name": "HTMLModel",
          "model_module_version": "1.5.0",
          "state": {
            "_dom_classes": [],
            "_model_module": "@jupyter-widgets/controls",
            "_model_module_version": "1.5.0",
            "_model_name": "HTMLModel",
            "_view_count": null,
            "_view_module": "@jupyter-widgets/controls",
            "_view_module_version": "1.5.0",
            "_view_name": "HTMLView",
            "description": "",
            "description_tooltip": null,
            "layout": "IPY_MODEL_9ded726bbc4e4866a364ddb6fa33a82e",
            "placeholder": "​",
            "style": "IPY_MODEL_569dafec84df4c68ab5d2985118a9ca0",
            "value": "Downloading (…)solve/main/vocab.txt: 100%"
          }
        },
        "acd628552d864a8d8f6ee7738fac50ef": {
          "model_module": "@jupyter-widgets/controls",
          "model_name": "FloatProgressModel",
          "model_module_version": "1.5.0",
          "state": {
            "_dom_classes": [],
            "_model_module": "@jupyter-widgets/controls",
            "_model_module_version": "1.5.0",
            "_model_name": "FloatProgressModel",
            "_view_count": null,
            "_view_module": "@jupyter-widgets/controls",
            "_view_module_version": "1.5.0",
            "_view_name": "ProgressView",
            "bar_style": "success",
            "description": "",
            "description_tooltip": null,
            "layout": "IPY_MODEL_ca57e4e2a5914482b69504d6e6544f70",
            "max": 213450,
            "min": 0,
            "orientation": "horizontal",
            "style": "IPY_MODEL_9abd2e430af44520ace6052aceab811c",
            "value": 213450
          }
        },
        "91567bf6b2554eb299ce701857fbeede": {
          "model_module": "@jupyter-widgets/controls",
          "model_name": "HTMLModel",
          "model_module_version": "1.5.0",
          "state": {
            "_dom_classes": [],
            "_model_module": "@jupyter-widgets/controls",
            "_model_module_version": "1.5.0",
            "_model_name": "HTMLModel",
            "_view_count": null,
            "_view_module": "@jupyter-widgets/controls",
            "_view_module_version": "1.5.0",
            "_view_name": "HTMLView",
            "description": "",
            "description_tooltip": null,
            "layout": "IPY_MODEL_1dc309dfdd2042cb9b4f7a17d123cfb3",
            "placeholder": "​",
            "style": "IPY_MODEL_d619bbae005a43a1a75554078c8eac54",
            "value": " 213k/213k [00:00&lt;00:00, 548kB/s]"
          }
        },
        "2dc1bbec4fa04559a873af38b86bf812": {
          "model_module": "@jupyter-widgets/base",
          "model_name": "LayoutModel",
          "model_module_version": "1.2.0",
          "state": {
            "_model_module": "@jupyter-widgets/base",
            "_model_module_version": "1.2.0",
            "_model_name": "LayoutModel",
            "_view_count": null,
            "_view_module": "@jupyter-widgets/base",
            "_view_module_version": "1.2.0",
            "_view_name": "LayoutView",
            "align_content": null,
            "align_items": null,
            "align_self": null,
            "border": null,
            "bottom": null,
            "display": null,
            "flex": null,
            "flex_flow": null,
            "grid_area": null,
            "grid_auto_columns": null,
            "grid_auto_flow": null,
            "grid_auto_rows": null,
            "grid_column": null,
            "grid_gap": null,
            "grid_row": null,
            "grid_template_areas": null,
            "grid_template_columns": null,
            "grid_template_rows": null,
            "height": null,
            "justify_content": null,
            "justify_items": null,
            "left": null,
            "margin": null,
            "max_height": null,
            "max_width": null,
            "min_height": null,
            "min_width": null,
            "object_fit": null,
            "object_position": null,
            "order": null,
            "overflow": null,
            "overflow_x": null,
            "overflow_y": null,
            "padding": null,
            "right": null,
            "top": null,
            "visibility": null,
            "width": null
          }
        },
        "9ded726bbc4e4866a364ddb6fa33a82e": {
          "model_module": "@jupyter-widgets/base",
          "model_name": "LayoutModel",
          "model_module_version": "1.2.0",
          "state": {
            "_model_module": "@jupyter-widgets/base",
            "_model_module_version": "1.2.0",
            "_model_name": "LayoutModel",
            "_view_count": null,
            "_view_module": "@jupyter-widgets/base",
            "_view_module_version": "1.2.0",
            "_view_name": "LayoutView",
            "align_content": null,
            "align_items": null,
            "align_self": null,
            "border": null,
            "bottom": null,
            "display": null,
            "flex": null,
            "flex_flow": null,
            "grid_area": null,
            "grid_auto_columns": null,
            "grid_auto_flow": null,
            "grid_auto_rows": null,
            "grid_column": null,
            "grid_gap": null,
            "grid_row": null,
            "grid_template_areas": null,
            "grid_template_columns": null,
            "grid_template_rows": null,
            "height": null,
            "justify_content": null,
            "justify_items": null,
            "left": null,
            "margin": null,
            "max_height": null,
            "max_width": null,
            "min_height": null,
            "min_width": null,
            "object_fit": null,
            "object_position": null,
            "order": null,
            "overflow": null,
            "overflow_x": null,
            "overflow_y": null,
            "padding": null,
            "right": null,
            "top": null,
            "visibility": null,
            "width": null
          }
        },
        "569dafec84df4c68ab5d2985118a9ca0": {
          "model_module": "@jupyter-widgets/controls",
          "model_name": "DescriptionStyleModel",
          "model_module_version": "1.5.0",
          "state": {
            "_model_module": "@jupyter-widgets/controls",
            "_model_module_version": "1.5.0",
            "_model_name": "DescriptionStyleModel",
            "_view_count": null,
            "_view_module": "@jupyter-widgets/base",
            "_view_module_version": "1.2.0",
            "_view_name": "StyleView",
            "description_width": ""
          }
        },
        "ca57e4e2a5914482b69504d6e6544f70": {
          "model_module": "@jupyter-widgets/base",
          "model_name": "LayoutModel",
          "model_module_version": "1.2.0",
          "state": {
            "_model_module": "@jupyter-widgets/base",
            "_model_module_version": "1.2.0",
            "_model_name": "LayoutModel",
            "_view_count": null,
            "_view_module": "@jupyter-widgets/base",
            "_view_module_version": "1.2.0",
            "_view_name": "LayoutView",
            "align_content": null,
            "align_items": null,
            "align_self": null,
            "border": null,
            "bottom": null,
            "display": null,
            "flex": null,
            "flex_flow": null,
            "grid_area": null,
            "grid_auto_columns": null,
            "grid_auto_flow": null,
            "grid_auto_rows": null,
            "grid_column": null,
            "grid_gap": null,
            "grid_row": null,
            "grid_template_areas": null,
            "grid_template_columns": null,
            "grid_template_rows": null,
            "height": null,
            "justify_content": null,
            "justify_items": null,
            "left": null,
            "margin": null,
            "max_height": null,
            "max_width": null,
            "min_height": null,
            "min_width": null,
            "object_fit": null,
            "object_position": null,
            "order": null,
            "overflow": null,
            "overflow_x": null,
            "overflow_y": null,
            "padding": null,
            "right": null,
            "top": null,
            "visibility": null,
            "width": null
          }
        },
        "9abd2e430af44520ace6052aceab811c": {
          "model_module": "@jupyter-widgets/controls",
          "model_name": "ProgressStyleModel",
          "model_module_version": "1.5.0",
          "state": {
            "_model_module": "@jupyter-widgets/controls",
            "_model_module_version": "1.5.0",
            "_model_name": "ProgressStyleModel",
            "_view_count": null,
            "_view_module": "@jupyter-widgets/base",
            "_view_module_version": "1.2.0",
            "_view_name": "StyleView",
            "bar_color": null,
            "description_width": ""
          }
        },
        "1dc309dfdd2042cb9b4f7a17d123cfb3": {
          "model_module": "@jupyter-widgets/base",
          "model_name": "LayoutModel",
          "model_module_version": "1.2.0",
          "state": {
            "_model_module": "@jupyter-widgets/base",
            "_model_module_version": "1.2.0",
            "_model_name": "LayoutModel",
            "_view_count": null,
            "_view_module": "@jupyter-widgets/base",
            "_view_module_version": "1.2.0",
            "_view_name": "LayoutView",
            "align_content": null,
            "align_items": null,
            "align_self": null,
            "border": null,
            "bottom": null,
            "display": null,
            "flex": null,
            "flex_flow": null,
            "grid_area": null,
            "grid_auto_columns": null,
            "grid_auto_flow": null,
            "grid_auto_rows": null,
            "grid_column": null,
            "grid_gap": null,
            "grid_row": null,
            "grid_template_areas": null,
            "grid_template_columns": null,
            "grid_template_rows": null,
            "height": null,
            "justify_content": null,
            "justify_items": null,
            "left": null,
            "margin": null,
            "max_height": null,
            "max_width": null,
            "min_height": null,
            "min_width": null,
            "object_fit": null,
            "object_position": null,
            "order": null,
            "overflow": null,
            "overflow_x": null,
            "overflow_y": null,
            "padding": null,
            "right": null,
            "top": null,
            "visibility": null,
            "width": null
          }
        },
        "d619bbae005a43a1a75554078c8eac54": {
          "model_module": "@jupyter-widgets/controls",
          "model_name": "DescriptionStyleModel",
          "model_module_version": "1.5.0",
          "state": {
            "_model_module": "@jupyter-widgets/controls",
            "_model_module_version": "1.5.0",
            "_model_name": "DescriptionStyleModel",
            "_view_count": null,
            "_view_module": "@jupyter-widgets/base",
            "_view_module_version": "1.2.0",
            "_view_name": "StyleView",
            "description_width": ""
          }
        },
        "51b5dd9e08a74e53b149bbf9cbc7f12f": {
          "model_module": "@jupyter-widgets/controls",
          "model_name": "HBoxModel",
          "model_module_version": "1.5.0",
          "state": {
            "_dom_classes": [],
            "_model_module": "@jupyter-widgets/controls",
            "_model_module_version": "1.5.0",
            "_model_name": "HBoxModel",
            "_view_count": null,
            "_view_module": "@jupyter-widgets/controls",
            "_view_module_version": "1.5.0",
            "_view_name": "HBoxView",
            "box_style": "",
            "children": [
              "IPY_MODEL_f4df011fa58c443db61bc40abf60e3c0",
              "IPY_MODEL_52385ed19316460c9f3217cc0a50ee5f",
              "IPY_MODEL_7490cd39d3a54d37be8df2602c6afd92"
            ],
            "layout": "IPY_MODEL_c500b04bcada471988eb0ab69fcd2f98"
          }
        },
        "f4df011fa58c443db61bc40abf60e3c0": {
          "model_module": "@jupyter-widgets/controls",
          "model_name": "HTMLModel",
          "model_module_version": "1.5.0",
          "state": {
            "_dom_classes": [],
            "_model_module": "@jupyter-widgets/controls",
            "_model_module_version": "1.5.0",
            "_model_name": "HTMLModel",
            "_view_count": null,
            "_view_module": "@jupyter-widgets/controls",
            "_view_module_version": "1.5.0",
            "_view_name": "HTMLView",
            "description": "",
            "description_tooltip": null,
            "layout": "IPY_MODEL_bd002cb0a1584491abf770c5b788bc22",
            "placeholder": "​",
            "style": "IPY_MODEL_544422f93d6f46579e71b2aee18673b4",
            "value": "Downloading (…)okenizer_config.json: 100%"
          }
        },
        "52385ed19316460c9f3217cc0a50ee5f": {
          "model_module": "@jupyter-widgets/controls",
          "model_name": "FloatProgressModel",
          "model_module_version": "1.5.0",
          "state": {
            "_dom_classes": [],
            "_model_module": "@jupyter-widgets/controls",
            "_model_module_version": "1.5.0",
            "_model_name": "FloatProgressModel",
            "_view_count": null,
            "_view_module": "@jupyter-widgets/controls",
            "_view_module_version": "1.5.0",
            "_view_name": "ProgressView",
            "bar_style": "success",
            "description": "",
            "description_tooltip": null,
            "layout": "IPY_MODEL_cb785779e6ca427f808b14d856c2962c",
            "max": 29,
            "min": 0,
            "orientation": "horizontal",
            "style": "IPY_MODEL_8fda0322c2b24e1e81ce4427db454ec1",
            "value": 29
          }
        },
        "7490cd39d3a54d37be8df2602c6afd92": {
          "model_module": "@jupyter-widgets/controls",
          "model_name": "HTMLModel",
          "model_module_version": "1.5.0",
          "state": {
            "_dom_classes": [],
            "_model_module": "@jupyter-widgets/controls",
            "_model_module_version": "1.5.0",
            "_model_name": "HTMLModel",
            "_view_count": null,
            "_view_module": "@jupyter-widgets/controls",
            "_view_module_version": "1.5.0",
            "_view_name": "HTMLView",
            "description": "",
            "description_tooltip": null,
            "layout": "IPY_MODEL_86c74d615f1d4cb79353841a24f81563",
            "placeholder": "​",
            "style": "IPY_MODEL_c6997f5460bb4e96b73c10ccd9753117",
            "value": " 29.0/29.0 [00:00&lt;00:00, 981B/s]"
          }
        },
        "c500b04bcada471988eb0ab69fcd2f98": {
          "model_module": "@jupyter-widgets/base",
          "model_name": "LayoutModel",
          "model_module_version": "1.2.0",
          "state": {
            "_model_module": "@jupyter-widgets/base",
            "_model_module_version": "1.2.0",
            "_model_name": "LayoutModel",
            "_view_count": null,
            "_view_module": "@jupyter-widgets/base",
            "_view_module_version": "1.2.0",
            "_view_name": "LayoutView",
            "align_content": null,
            "align_items": null,
            "align_self": null,
            "border": null,
            "bottom": null,
            "display": null,
            "flex": null,
            "flex_flow": null,
            "grid_area": null,
            "grid_auto_columns": null,
            "grid_auto_flow": null,
            "grid_auto_rows": null,
            "grid_column": null,
            "grid_gap": null,
            "grid_row": null,
            "grid_template_areas": null,
            "grid_template_columns": null,
            "grid_template_rows": null,
            "height": null,
            "justify_content": null,
            "justify_items": null,
            "left": null,
            "margin": null,
            "max_height": null,
            "max_width": null,
            "min_height": null,
            "min_width": null,
            "object_fit": null,
            "object_position": null,
            "order": null,
            "overflow": null,
            "overflow_x": null,
            "overflow_y": null,
            "padding": null,
            "right": null,
            "top": null,
            "visibility": null,
            "width": null
          }
        },
        "bd002cb0a1584491abf770c5b788bc22": {
          "model_module": "@jupyter-widgets/base",
          "model_name": "LayoutModel",
          "model_module_version": "1.2.0",
          "state": {
            "_model_module": "@jupyter-widgets/base",
            "_model_module_version": "1.2.0",
            "_model_name": "LayoutModel",
            "_view_count": null,
            "_view_module": "@jupyter-widgets/base",
            "_view_module_version": "1.2.0",
            "_view_name": "LayoutView",
            "align_content": null,
            "align_items": null,
            "align_self": null,
            "border": null,
            "bottom": null,
            "display": null,
            "flex": null,
            "flex_flow": null,
            "grid_area": null,
            "grid_auto_columns": null,
            "grid_auto_flow": null,
            "grid_auto_rows": null,
            "grid_column": null,
            "grid_gap": null,
            "grid_row": null,
            "grid_template_areas": null,
            "grid_template_columns": null,
            "grid_template_rows": null,
            "height": null,
            "justify_content": null,
            "justify_items": null,
            "left": null,
            "margin": null,
            "max_height": null,
            "max_width": null,
            "min_height": null,
            "min_width": null,
            "object_fit": null,
            "object_position": null,
            "order": null,
            "overflow": null,
            "overflow_x": null,
            "overflow_y": null,
            "padding": null,
            "right": null,
            "top": null,
            "visibility": null,
            "width": null
          }
        },
        "544422f93d6f46579e71b2aee18673b4": {
          "model_module": "@jupyter-widgets/controls",
          "model_name": "DescriptionStyleModel",
          "model_module_version": "1.5.0",
          "state": {
            "_model_module": "@jupyter-widgets/controls",
            "_model_module_version": "1.5.0",
            "_model_name": "DescriptionStyleModel",
            "_view_count": null,
            "_view_module": "@jupyter-widgets/base",
            "_view_module_version": "1.2.0",
            "_view_name": "StyleView",
            "description_width": ""
          }
        },
        "cb785779e6ca427f808b14d856c2962c": {
          "model_module": "@jupyter-widgets/base",
          "model_name": "LayoutModel",
          "model_module_version": "1.2.0",
          "state": {
            "_model_module": "@jupyter-widgets/base",
            "_model_module_version": "1.2.0",
            "_model_name": "LayoutModel",
            "_view_count": null,
            "_view_module": "@jupyter-widgets/base",
            "_view_module_version": "1.2.0",
            "_view_name": "LayoutView",
            "align_content": null,
            "align_items": null,
            "align_self": null,
            "border": null,
            "bottom": null,
            "display": null,
            "flex": null,
            "flex_flow": null,
            "grid_area": null,
            "grid_auto_columns": null,
            "grid_auto_flow": null,
            "grid_auto_rows": null,
            "grid_column": null,
            "grid_gap": null,
            "grid_row": null,
            "grid_template_areas": null,
            "grid_template_columns": null,
            "grid_template_rows": null,
            "height": null,
            "justify_content": null,
            "justify_items": null,
            "left": null,
            "margin": null,
            "max_height": null,
            "max_width": null,
            "min_height": null,
            "min_width": null,
            "object_fit": null,
            "object_position": null,
            "order": null,
            "overflow": null,
            "overflow_x": null,
            "overflow_y": null,
            "padding": null,
            "right": null,
            "top": null,
            "visibility": null,
            "width": null
          }
        },
        "8fda0322c2b24e1e81ce4427db454ec1": {
          "model_module": "@jupyter-widgets/controls",
          "model_name": "ProgressStyleModel",
          "model_module_version": "1.5.0",
          "state": {
            "_model_module": "@jupyter-widgets/controls",
            "_model_module_version": "1.5.0",
            "_model_name": "ProgressStyleModel",
            "_view_count": null,
            "_view_module": "@jupyter-widgets/base",
            "_view_module_version": "1.2.0",
            "_view_name": "StyleView",
            "bar_color": null,
            "description_width": ""
          }
        },
        "86c74d615f1d4cb79353841a24f81563": {
          "model_module": "@jupyter-widgets/base",
          "model_name": "LayoutModel",
          "model_module_version": "1.2.0",
          "state": {
            "_model_module": "@jupyter-widgets/base",
            "_model_module_version": "1.2.0",
            "_model_name": "LayoutModel",
            "_view_count": null,
            "_view_module": "@jupyter-widgets/base",
            "_view_module_version": "1.2.0",
            "_view_name": "LayoutView",
            "align_content": null,
            "align_items": null,
            "align_self": null,
            "border": null,
            "bottom": null,
            "display": null,
            "flex": null,
            "flex_flow": null,
            "grid_area": null,
            "grid_auto_columns": null,
            "grid_auto_flow": null,
            "grid_auto_rows": null,
            "grid_column": null,
            "grid_gap": null,
            "grid_row": null,
            "grid_template_areas": null,
            "grid_template_columns": null,
            "grid_template_rows": null,
            "height": null,
            "justify_content": null,
            "justify_items": null,
            "left": null,
            "margin": null,
            "max_height": null,
            "max_width": null,
            "min_height": null,
            "min_width": null,
            "object_fit": null,
            "object_position": null,
            "order": null,
            "overflow": null,
            "overflow_x": null,
            "overflow_y": null,
            "padding": null,
            "right": null,
            "top": null,
            "visibility": null,
            "width": null
          }
        },
        "c6997f5460bb4e96b73c10ccd9753117": {
          "model_module": "@jupyter-widgets/controls",
          "model_name": "DescriptionStyleModel",
          "model_module_version": "1.5.0",
          "state": {
            "_model_module": "@jupyter-widgets/controls",
            "_model_module_version": "1.5.0",
            "_model_name": "DescriptionStyleModel",
            "_view_count": null,
            "_view_module": "@jupyter-widgets/base",
            "_view_module_version": "1.2.0",
            "_view_name": "StyleView",
            "description_width": ""
          }
        },
        "e670aeb3f6ec453f992b4393feaf12ec": {
          "model_module": "@jupyter-widgets/controls",
          "model_name": "HBoxModel",
          "model_module_version": "1.5.0",
          "state": {
            "_dom_classes": [],
            "_model_module": "@jupyter-widgets/controls",
            "_model_module_version": "1.5.0",
            "_model_name": "HBoxModel",
            "_view_count": null,
            "_view_module": "@jupyter-widgets/controls",
            "_view_module_version": "1.5.0",
            "_view_name": "HBoxView",
            "box_style": "",
            "children": [
              "IPY_MODEL_3e9e6e8142e541d2bde665c8a36fb4f0",
              "IPY_MODEL_c528eead11f74115a1adcf6a92ed960c",
              "IPY_MODEL_4b15bff7bd714b868ad0e12a760af71f"
            ],
            "layout": "IPY_MODEL_70c0a2bd7d25400082b3e33d43665802"
          }
        },
        "3e9e6e8142e541d2bde665c8a36fb4f0": {
          "model_module": "@jupyter-widgets/controls",
          "model_name": "HTMLModel",
          "model_module_version": "1.5.0",
          "state": {
            "_dom_classes": [],
            "_model_module": "@jupyter-widgets/controls",
            "_model_module_version": "1.5.0",
            "_model_name": "HTMLModel",
            "_view_count": null,
            "_view_module": "@jupyter-widgets/controls",
            "_view_module_version": "1.5.0",
            "_view_name": "HTMLView",
            "description": "",
            "description_tooltip": null,
            "layout": "IPY_MODEL_a87ce8b06807462cb70353b899a13fa3",
            "placeholder": "​",
            "style": "IPY_MODEL_fdf015aae7b54478a9f3d1787b0fa9fc",
            "value": "Downloading (…)lve/main/config.json: 100%"
          }
        },
        "c528eead11f74115a1adcf6a92ed960c": {
          "model_module": "@jupyter-widgets/controls",
          "model_name": "FloatProgressModel",
          "model_module_version": "1.5.0",
          "state": {
            "_dom_classes": [],
            "_model_module": "@jupyter-widgets/controls",
            "_model_module_version": "1.5.0",
            "_model_name": "FloatProgressModel",
            "_view_count": null,
            "_view_module": "@jupyter-widgets/controls",
            "_view_module_version": "1.5.0",
            "_view_name": "ProgressView",
            "bar_style": "success",
            "description": "",
            "description_tooltip": null,
            "layout": "IPY_MODEL_1810d6c8f15b4c6ab27daa3310475b02",
            "max": 570,
            "min": 0,
            "orientation": "horizontal",
            "style": "IPY_MODEL_504ac8c6196e4f33929d8132324510e6",
            "value": 570
          }
        },
        "4b15bff7bd714b868ad0e12a760af71f": {
          "model_module": "@jupyter-widgets/controls",
          "model_name": "HTMLModel",
          "model_module_version": "1.5.0",
          "state": {
            "_dom_classes": [],
            "_model_module": "@jupyter-widgets/controls",
            "_model_module_version": "1.5.0",
            "_model_name": "HTMLModel",
            "_view_count": null,
            "_view_module": "@jupyter-widgets/controls",
            "_view_module_version": "1.5.0",
            "_view_name": "HTMLView",
            "description": "",
            "description_tooltip": null,
            "layout": "IPY_MODEL_09ff58d7f8ac47e5be6da7378420b47f",
            "placeholder": "​",
            "style": "IPY_MODEL_1d83355e30494bdb9b399800c7601609",
            "value": " 570/570 [00:00&lt;00:00, 27.1kB/s]"
          }
        },
        "70c0a2bd7d25400082b3e33d43665802": {
          "model_module": "@jupyter-widgets/base",
          "model_name": "LayoutModel",
          "model_module_version": "1.2.0",
          "state": {
            "_model_module": "@jupyter-widgets/base",
            "_model_module_version": "1.2.0",
            "_model_name": "LayoutModel",
            "_view_count": null,
            "_view_module": "@jupyter-widgets/base",
            "_view_module_version": "1.2.0",
            "_view_name": "LayoutView",
            "align_content": null,
            "align_items": null,
            "align_self": null,
            "border": null,
            "bottom": null,
            "display": null,
            "flex": null,
            "flex_flow": null,
            "grid_area": null,
            "grid_auto_columns": null,
            "grid_auto_flow": null,
            "grid_auto_rows": null,
            "grid_column": null,
            "grid_gap": null,
            "grid_row": null,
            "grid_template_areas": null,
            "grid_template_columns": null,
            "grid_template_rows": null,
            "height": null,
            "justify_content": null,
            "justify_items": null,
            "left": null,
            "margin": null,
            "max_height": null,
            "max_width": null,
            "min_height": null,
            "min_width": null,
            "object_fit": null,
            "object_position": null,
            "order": null,
            "overflow": null,
            "overflow_x": null,
            "overflow_y": null,
            "padding": null,
            "right": null,
            "top": null,
            "visibility": null,
            "width": null
          }
        },
        "a87ce8b06807462cb70353b899a13fa3": {
          "model_module": "@jupyter-widgets/base",
          "model_name": "LayoutModel",
          "model_module_version": "1.2.0",
          "state": {
            "_model_module": "@jupyter-widgets/base",
            "_model_module_version": "1.2.0",
            "_model_name": "LayoutModel",
            "_view_count": null,
            "_view_module": "@jupyter-widgets/base",
            "_view_module_version": "1.2.0",
            "_view_name": "LayoutView",
            "align_content": null,
            "align_items": null,
            "align_self": null,
            "border": null,
            "bottom": null,
            "display": null,
            "flex": null,
            "flex_flow": null,
            "grid_area": null,
            "grid_auto_columns": null,
            "grid_auto_flow": null,
            "grid_auto_rows": null,
            "grid_column": null,
            "grid_gap": null,
            "grid_row": null,
            "grid_template_areas": null,
            "grid_template_columns": null,
            "grid_template_rows": null,
            "height": null,
            "justify_content": null,
            "justify_items": null,
            "left": null,
            "margin": null,
            "max_height": null,
            "max_width": null,
            "min_height": null,
            "min_width": null,
            "object_fit": null,
            "object_position": null,
            "order": null,
            "overflow": null,
            "overflow_x": null,
            "overflow_y": null,
            "padding": null,
            "right": null,
            "top": null,
            "visibility": null,
            "width": null
          }
        },
        "fdf015aae7b54478a9f3d1787b0fa9fc": {
          "model_module": "@jupyter-widgets/controls",
          "model_name": "DescriptionStyleModel",
          "model_module_version": "1.5.0",
          "state": {
            "_model_module": "@jupyter-widgets/controls",
            "_model_module_version": "1.5.0",
            "_model_name": "DescriptionStyleModel",
            "_view_count": null,
            "_view_module": "@jupyter-widgets/base",
            "_view_module_version": "1.2.0",
            "_view_name": "StyleView",
            "description_width": ""
          }
        },
        "1810d6c8f15b4c6ab27daa3310475b02": {
          "model_module": "@jupyter-widgets/base",
          "model_name": "LayoutModel",
          "model_module_version": "1.2.0",
          "state": {
            "_model_module": "@jupyter-widgets/base",
            "_model_module_version": "1.2.0",
            "_model_name": "LayoutModel",
            "_view_count": null,
            "_view_module": "@jupyter-widgets/base",
            "_view_module_version": "1.2.0",
            "_view_name": "LayoutView",
            "align_content": null,
            "align_items": null,
            "align_self": null,
            "border": null,
            "bottom": null,
            "display": null,
            "flex": null,
            "flex_flow": null,
            "grid_area": null,
            "grid_auto_columns": null,
            "grid_auto_flow": null,
            "grid_auto_rows": null,
            "grid_column": null,
            "grid_gap": null,
            "grid_row": null,
            "grid_template_areas": null,
            "grid_template_columns": null,
            "grid_template_rows": null,
            "height": null,
            "justify_content": null,
            "justify_items": null,
            "left": null,
            "margin": null,
            "max_height": null,
            "max_width": null,
            "min_height": null,
            "min_width": null,
            "object_fit": null,
            "object_position": null,
            "order": null,
            "overflow": null,
            "overflow_x": null,
            "overflow_y": null,
            "padding": null,
            "right": null,
            "top": null,
            "visibility": null,
            "width": null
          }
        },
        "504ac8c6196e4f33929d8132324510e6": {
          "model_module": "@jupyter-widgets/controls",
          "model_name": "ProgressStyleModel",
          "model_module_version": "1.5.0",
          "state": {
            "_model_module": "@jupyter-widgets/controls",
            "_model_module_version": "1.5.0",
            "_model_name": "ProgressStyleModel",
            "_view_count": null,
            "_view_module": "@jupyter-widgets/base",
            "_view_module_version": "1.2.0",
            "_view_name": "StyleView",
            "bar_color": null,
            "description_width": ""
          }
        },
        "09ff58d7f8ac47e5be6da7378420b47f": {
          "model_module": "@jupyter-widgets/base",
          "model_name": "LayoutModel",
          "model_module_version": "1.2.0",
          "state": {
            "_model_module": "@jupyter-widgets/base",
            "_model_module_version": "1.2.0",
            "_model_name": "LayoutModel",
            "_view_count": null,
            "_view_module": "@jupyter-widgets/base",
            "_view_module_version": "1.2.0",
            "_view_name": "LayoutView",
            "align_content": null,
            "align_items": null,
            "align_self": null,
            "border": null,
            "bottom": null,
            "display": null,
            "flex": null,
            "flex_flow": null,
            "grid_area": null,
            "grid_auto_columns": null,
            "grid_auto_flow": null,
            "grid_auto_rows": null,
            "grid_column": null,
            "grid_gap": null,
            "grid_row": null,
            "grid_template_areas": null,
            "grid_template_columns": null,
            "grid_template_rows": null,
            "height": null,
            "justify_content": null,
            "justify_items": null,
            "left": null,
            "margin": null,
            "max_height": null,
            "max_width": null,
            "min_height": null,
            "min_width": null,
            "object_fit": null,
            "object_position": null,
            "order": null,
            "overflow": null,
            "overflow_x": null,
            "overflow_y": null,
            "padding": null,
            "right": null,
            "top": null,
            "visibility": null,
            "width": null
          }
        },
        "1d83355e30494bdb9b399800c7601609": {
          "model_module": "@jupyter-widgets/controls",
          "model_name": "DescriptionStyleModel",
          "model_module_version": "1.5.0",
          "state": {
            "_model_module": "@jupyter-widgets/controls",
            "_model_module_version": "1.5.0",
            "_model_name": "DescriptionStyleModel",
            "_view_count": null,
            "_view_module": "@jupyter-widgets/base",
            "_view_module_version": "1.2.0",
            "_view_name": "StyleView",
            "description_width": ""
          }
        }
      }
    }
  },
  "cells": [
    {
      "cell_type": "code",
      "execution_count": null,
      "metadata": {
        "id": "8SMzqx2QQcpB"
      },
      "outputs": [],
      "source": [
        "!pip install transformers"
      ]
    },
    {
      "cell_type": "code",
      "source": [
        "!pip install -q -U watermark\n",
        "%reload_ext watermark\n",
        "%watermark -v -p numpy,pandas,torch,transformers"
      ],
      "metadata": {
        "colab": {
          "base_uri": "https://localhost:8080/"
        },
        "id": "d1TnwcncQnz0",
        "outputId": "d9f49847-bafb-4320-838f-e0a59618cbc6"
      },
      "execution_count": null,
      "outputs": [
        {
          "output_type": "stream",
          "name": "stdout",
          "text": [
            "\u001b[2K     \u001b[90m━━━━━━━━━━━━━━━━━━━━━━━━━━━━━━━━━━━━━━━━\u001b[0m \u001b[32m1.6/1.6 MB\u001b[0m \u001b[31m7.1 MB/s\u001b[0m eta \u001b[36m0:00:00\u001b[0m\n",
            "\u001b[?25hPython implementation: CPython\n",
            "Python version       : 3.10.12\n",
            "IPython version      : 7.34.0\n",
            "\n",
            "numpy       : 1.23.5\n",
            "pandas      : 1.5.3\n",
            "torch       : 2.0.1+cu118\n",
            "transformers: not installed\n",
            "\n"
          ]
        }
      ]
    },
    {
      "cell_type": "code",
      "source": [
        "import transformers\n",
        "from transformers import BertModel, BertTokenizer, AdamW, get_linear_schedule_with_warmup\n",
        "\n",
        "import torch\n",
        "from torch import nn, optim\n",
        "import torch.nn.functional as F\n",
        "from torch.utils.data import Dataset, DataLoader\n",
        "\n",
        "import numpy as np\n",
        "import pandas as pd\n",
        "#pd.set_option('max_columns', None)\n",
        "\n",
        "import seaborn as sns\n",
        "from pylab import rcParams\n",
        "import matplotlib.pyplot as plt\n",
        "from matplotlib import rc\n",
        "\n",
        "from sklearn.model_selection import train_test_split\n",
        "from sklearn.metrics import confusion_matrix, classification_report\n",
        "\n",
        "from collections import defaultdict\n",
        "from textwrap import wrap\n",
        "\n",
        "import os\n",
        "\n",
        "from IPython.core.interactiveshell import InteractiveShell\n",
        "InteractiveShell.ast_node_interactivity = \"all\"\n",
        "\n",
        "import warnings\n",
        "warnings.filterwarnings('ignore')\n",
        "\n",
        "%matplotlib inline\n",
        "%config InlineBackend.figure_format='retina'\n",
        "sns.set(style='whitegrid', palette='muted', font_scale=1.2)\n",
        "HAPPY_COLORS_PALETTE = [\"#01BEFE\", \"#FFDD00\", \"#FF7D00\", \"#FF006D\", \"#ADFF02\", \"#8F00FF\"]\n",
        "sns.set_palette(sns.color_palette(HAPPY_COLORS_PALETTE))\n",
        "rcParams['figure.figsize'] = 12, 8\n",
        "RANDOM_SEED = 42\n",
        "np.random.seed(RANDOM_SEED)\n",
        "torch.manual_seed(RANDOM_SEED)\n",
        "device = torch.device(\"cuda:0\" if torch.cuda.is_available() else \"cpu\")"
      ],
      "metadata": {
        "id": "oDc3e2EaQuA1"
      },
      "execution_count": null,
      "outputs": []
    },
    {
      "cell_type": "code",
      "source": [
        "device"
      ],
      "metadata": {
        "colab": {
          "base_uri": "https://localhost:8080/"
        },
        "id": "0BNJviq7QyzM",
        "outputId": "df85aaed-90ec-42c1-9cce-d841f2ed5ff0"
      },
      "execution_count": null,
      "outputs": [
        {
          "output_type": "execute_result",
          "data": {
            "text/plain": [
              "device(type='cuda', index=0)"
            ]
          },
          "metadata": {},
          "execution_count": 5
        }
      ]
    },
    {
      "cell_type": "code",
      "source": [
        "!export CUDA_LAUNCH_BLOCKING=1"
      ],
      "metadata": {
        "id": "XZlhgTaWQ1fF"
      },
      "execution_count": null,
      "outputs": []
    },
    {
      "cell_type": "code",
      "source": [
        "import pandas as pd\n",
        "import numpy as np\n",
        "import csv\n",
        "import re\n",
        "import pickle\n",
        "import tqdm\n",
        "from collections import Counter\n",
        "import random\n",
        "import os\n",
        "\n",
        "import seaborn as sns\n",
        "\n",
        "from google.colab import drive\n",
        "drive.mount('/content/drive')"
      ],
      "metadata": {
        "colab": {
          "base_uri": "https://localhost:8080/"
        },
        "id": "72T1hKZnQ6TM",
        "outputId": "69de2e9f-b3ba-4ad2-ce20-01586f629b91"
      },
      "execution_count": null,
      "outputs": [
        {
          "output_type": "stream",
          "name": "stdout",
          "text": [
            "Mounted at /content/drive\n"
          ]
        }
      ]
    },
    {
      "cell_type": "code",
      "source": [
        "model = torch.load('/content/drive/MyDrive/best_model_state.bin')\n"
      ],
      "metadata": {
        "id": "ip57hX_FRKRA"
      },
      "execution_count": null,
      "outputs": []
    },
    {
      "cell_type": "code",
      "source": [
        "train = pickle.load(open('/content/drive/MyDrive/train_new.pkl', 'rb'))\n",
        "train_text = train['posts_text']\n",
        "train_label = train['annotations']\n",
        "    #eval = test = train\n",
        "    # test set\n",
        "test = pickle.load(open('/content/drive/MyDrive/test_new.pkl', 'rb'))\n",
        "test_text = test['posts_text']\n",
        "test_label = test['annotations']"
      ],
      "metadata": {
        "id": "FfxBSfaU9Ztk"
      },
      "execution_count": null,
      "outputs": []
    },
    {
      "cell_type": "code",
      "source": [
        "def process_data(poster, label):\n",
        "    label_lookup = {'E': 1, 'I': 0, 'S': 1, 'N':0, 'T': 1, 'F': 0, 'J': 1, 'P':0}\n",
        "    persona_lookup = {}\n",
        "    poster_data = [{'posts': t, 'label0': label_lookup[list(label[i])[0]],\n",
        "                    'label1': label_lookup[list(label[i])[1]],'label2': label_lookup[list(label[i])[2]],\n",
        "                    'label3': label_lookup[list(label[i])[3]]} for i,t in enumerate(poster)]\n",
        "    I,E,S,N,T,F,P,J=0,0,0,0,0,0,0,0\n",
        "    for t in label:\n",
        "        if 'I' in t:\n",
        "            I+=1\n",
        "        if 'E' in t:\n",
        "            E += 1\n",
        "        if 'S' in t:\n",
        "            S+=1\n",
        "        if 'N' in t:\n",
        "            N+=1\n",
        "        if 'T' in t:\n",
        "            T+=1\n",
        "        if 'F' in t:\n",
        "            F+=1\n",
        "        if 'P' in t:\n",
        "            P+=1\n",
        "        if 'J' in t:\n",
        "            J+=1\n",
        "        if t not in persona_lookup:\n",
        "            persona_lookup[t] = 1\n",
        "        else:\n",
        "            persona_lookup[t] += 1\n",
        "    return poster_data\n",
        "    # process\n",
        "deal_train_data = process_data(train_text, train_label)\n",
        "deal_test_data = process_data(test_text, test_label)"
      ],
      "metadata": {
        "id": "vkKWR3Z4-NJo"
      },
      "execution_count": null,
      "outputs": []
    },
    {
      "cell_type": "code",
      "source": [
        "#introvert data\n",
        "introvert_data =[]\n",
        "extrovert_data =[]\n",
        "sensor_data = []\n",
        "intuition_data = []\n",
        "feeling_data = []\n",
        "thinking_data = []\n",
        "judging_data = []\n",
        "percieving_data = []\n",
        "for data in deal_test_data:\n",
        "  if data['label0']==0:\n",
        "    introvert_data.append(data['posts'])\n",
        "  if data['label0']==1:\n",
        "    extrovert_data.append(data['posts'])\n",
        "  if data['label1']==0:\n",
        "    intuition_data.append(data['posts'])\n",
        "  if data['label1']==1:\n",
        "    sensor_data.append(data['posts'])\n",
        "  if data['label2']==0:\n",
        "    feeling_data.append(data['posts'])\n",
        "  if data['label2']==1:\n",
        "    thinking_data.append(data['posts'])\n",
        "  if data['label3']==0:\n",
        "    percieving_data.append(data['posts'])\n",
        "  if data['label3']==1:\n",
        "    judging_data.append(data['posts'])\n",
        "\n",
        "\n"
      ],
      "metadata": {
        "id": "EhfdXDb3-k8O"
      },
      "execution_count": null,
      "outputs": []
    },
    {
      "cell_type": "code",
      "source": [
        "test_df = pd.DataFrame(deal_test_data)\n",
        "train_df = pd.DataFrame(deal_train_data)"
      ],
      "metadata": {
        "id": "2NiRdM0a-QcS"
      },
      "execution_count": null,
      "outputs": []
    },
    {
      "cell_type": "code",
      "source": [
        "# Hyperparameters\n",
        "num_labels = 4\n",
        "num_classes_per_label = 2\n",
        "batch_size = 8\n",
        "max_length = 512\n",
        "learning_rate = 2e-5\n",
        "epochs = 5\n",
        "model = PersonalityClassifier(num_labels)\n",
        "model.load_state_dict(torch.load('/content/drive/MyDrive/best_model_state.bin'))\n",
        "model.eval()"
      ],
      "metadata": {
        "colab": {
          "base_uri": "https://localhost:8080/",
          "height": 853,
          "referenced_widgets": [
            "86a816fcd0024b7ebc781f167ad7ebca",
            "8015daf0d1a043bda879c5229b1b61ef",
            "84db1d822c3e46a88baa2cc72c05f08d",
            "0afe69d81f8b49d3bc1c6b5b642ffb85",
            "5d8dcd26da054d798e91f6fd453dd883",
            "806c34331bf44b428c252a08f50ee2d3",
            "ffcc19a4ba254408a23611b2f8eb7857",
            "1da29735ebf14e5d996494b9a1e9c204",
            "49f65ca722ff4bd094493605a02abaa6",
            "0d4aef9172e54cc7a18c2f788c747155",
            "4446b95ea7274e1a836f856529fc0927"
          ]
        },
        "id": "KiWGCqzYV3up",
        "outputId": "57c74fd1-24d6-4fe7-d5ee-9acb9fad276b"
      },
      "execution_count": null,
      "outputs": [
        {
          "output_type": "display_data",
          "data": {
            "text/plain": [
              "Downloading model.safetensors:   0%|          | 0.00/436M [00:00<?, ?B/s]"
            ],
            "application/vnd.jupyter.widget-view+json": {
              "version_major": 2,
              "version_minor": 0,
              "model_id": "86a816fcd0024b7ebc781f167ad7ebca"
            }
          },
          "metadata": {}
        },
        {
          "output_type": "execute_result",
          "data": {
            "text/plain": [
              "<All keys matched successfully>"
            ]
          },
          "metadata": {},
          "execution_count": 23
        },
        {
          "output_type": "execute_result",
          "data": {
            "text/plain": [
              "PersonalityClassifier(\n",
              "  (bert): BertModel(\n",
              "    (embeddings): BertEmbeddings(\n",
              "      (word_embeddings): Embedding(28996, 768, padding_idx=0)\n",
              "      (position_embeddings): Embedding(512, 768)\n",
              "      (token_type_embeddings): Embedding(2, 768)\n",
              "      (LayerNorm): LayerNorm((768,), eps=1e-12, elementwise_affine=True)\n",
              "      (dropout): Dropout(p=0.1, inplace=False)\n",
              "    )\n",
              "    (encoder): BertEncoder(\n",
              "      (layer): ModuleList(\n",
              "        (0-11): 12 x BertLayer(\n",
              "          (attention): BertAttention(\n",
              "            (self): BertSelfAttention(\n",
              "              (query): Linear(in_features=768, out_features=768, bias=True)\n",
              "              (key): Linear(in_features=768, out_features=768, bias=True)\n",
              "              (value): Linear(in_features=768, out_features=768, bias=True)\n",
              "              (dropout): Dropout(p=0.1, inplace=False)\n",
              "            )\n",
              "            (output): BertSelfOutput(\n",
              "              (dense): Linear(in_features=768, out_features=768, bias=True)\n",
              "              (LayerNorm): LayerNorm((768,), eps=1e-12, elementwise_affine=True)\n",
              "              (dropout): Dropout(p=0.1, inplace=False)\n",
              "            )\n",
              "          )\n",
              "          (intermediate): BertIntermediate(\n",
              "            (dense): Linear(in_features=768, out_features=3072, bias=True)\n",
              "            (intermediate_act_fn): GELUActivation()\n",
              "          )\n",
              "          (output): BertOutput(\n",
              "            (dense): Linear(in_features=3072, out_features=768, bias=True)\n",
              "            (LayerNorm): LayerNorm((768,), eps=1e-12, elementwise_affine=True)\n",
              "            (dropout): Dropout(p=0.1, inplace=False)\n",
              "          )\n",
              "        )\n",
              "      )\n",
              "    )\n",
              "    (pooler): BertPooler(\n",
              "      (dense): Linear(in_features=768, out_features=768, bias=True)\n",
              "      (activation): Tanh()\n",
              "    )\n",
              "  )\n",
              "  (drop): Dropout(p=0.3, inplace=False)\n",
              "  (out): Linear(in_features=768, out_features=8, bias=True)\n",
              ")"
            ]
          },
          "metadata": {},
          "execution_count": 23
        }
      ]
    },
    {
      "cell_type": "code",
      "source": [
        "model = model.to(device)"
      ],
      "metadata": {
        "id": "eIYXT-aOWlpx"
      },
      "execution_count": null,
      "outputs": []
    },
    {
      "cell_type": "code",
      "source": [
        "PRE_TRAINED_MODEL_NAME = 'bert-base-cased'\n",
        "tokenizer = BertTokenizer.from_pretrained(PRE_TRAINED_MODEL_NAME, return_dict=False)"
      ],
      "metadata": {
        "colab": {
          "base_uri": "https://localhost:8080/",
          "height": 113,
          "referenced_widgets": [
            "0dea1cd4f2e242e2a87b6139105e5ec3",
            "54e063cd8f034715af86d968707e55dd",
            "acd628552d864a8d8f6ee7738fac50ef",
            "91567bf6b2554eb299ce701857fbeede",
            "2dc1bbec4fa04559a873af38b86bf812",
            "9ded726bbc4e4866a364ddb6fa33a82e",
            "569dafec84df4c68ab5d2985118a9ca0",
            "ca57e4e2a5914482b69504d6e6544f70",
            "9abd2e430af44520ace6052aceab811c",
            "1dc309dfdd2042cb9b4f7a17d123cfb3",
            "d619bbae005a43a1a75554078c8eac54",
            "51b5dd9e08a74e53b149bbf9cbc7f12f",
            "f4df011fa58c443db61bc40abf60e3c0",
            "52385ed19316460c9f3217cc0a50ee5f",
            "7490cd39d3a54d37be8df2602c6afd92",
            "c500b04bcada471988eb0ab69fcd2f98",
            "bd002cb0a1584491abf770c5b788bc22",
            "544422f93d6f46579e71b2aee18673b4",
            "cb785779e6ca427f808b14d856c2962c",
            "8fda0322c2b24e1e81ce4427db454ec1",
            "86c74d615f1d4cb79353841a24f81563",
            "c6997f5460bb4e96b73c10ccd9753117",
            "e670aeb3f6ec453f992b4393feaf12ec",
            "3e9e6e8142e541d2bde665c8a36fb4f0",
            "c528eead11f74115a1adcf6a92ed960c",
            "4b15bff7bd714b868ad0e12a760af71f",
            "70c0a2bd7d25400082b3e33d43665802",
            "a87ce8b06807462cb70353b899a13fa3",
            "fdf015aae7b54478a9f3d1787b0fa9fc",
            "1810d6c8f15b4c6ab27daa3310475b02",
            "504ac8c6196e4f33929d8132324510e6",
            "09ff58d7f8ac47e5be6da7378420b47f",
            "1d83355e30494bdb9b399800c7601609"
          ]
        },
        "id": "vpxZY9kxR8B9",
        "outputId": "aba8294c-8bea-4e24-b5f2-a4abdd0cc697"
      },
      "execution_count": null,
      "outputs": [
        {
          "output_type": "display_data",
          "data": {
            "text/plain": [
              "Downloading (…)solve/main/vocab.txt:   0%|          | 0.00/213k [00:00<?, ?B/s]"
            ],
            "application/vnd.jupyter.widget-view+json": {
              "version_major": 2,
              "version_minor": 0,
              "model_id": "0dea1cd4f2e242e2a87b6139105e5ec3"
            }
          },
          "metadata": {}
        },
        {
          "output_type": "display_data",
          "data": {
            "text/plain": [
              "Downloading (…)okenizer_config.json:   0%|          | 0.00/29.0 [00:00<?, ?B/s]"
            ],
            "application/vnd.jupyter.widget-view+json": {
              "version_major": 2,
              "version_minor": 0,
              "model_id": "51b5dd9e08a74e53b149bbf9cbc7f12f"
            }
          },
          "metadata": {}
        },
        {
          "output_type": "display_data",
          "data": {
            "text/plain": [
              "Downloading (…)lve/main/config.json:   0%|          | 0.00/570 [00:00<?, ?B/s]"
            ],
            "application/vnd.jupyter.widget-view+json": {
              "version_major": 2,
              "version_minor": 0,
              "model_id": "e670aeb3f6ec453f992b4393feaf12ec"
            }
          },
          "metadata": {}
        }
      ]
    },
    {
      "cell_type": "code",
      "source": [
        "class PersonalityClassifier(nn.Module):\n",
        "\n",
        "    def __init__(self, n_labels):\n",
        "        super(PersonalityClassifier, self).__init__()\n",
        "        self.bert = BertModel.from_pretrained(PRE_TRAINED_MODEL_NAME,return_dict=False)\n",
        "        self.drop = nn.Dropout(p=0.3)\n",
        "        self.out = nn.Linear(self.bert.config.hidden_size, n_labels*2)\n",
        "    def forward(self, input_ids, attention_mask):\n",
        "      _, pooled_output = self.bert(input_ids = input_ids, attention_mask=attention_mask)\n",
        "      #pooled_output = outputs['pooler_output']\n",
        "      pooled_output = self.drop(pooled_output)\n",
        "      logits = self.out(pooled_output)\n",
        "      return logits"
      ],
      "metadata": {
        "id": "dmzWIUuqRfm1"
      },
      "execution_count": null,
      "outputs": []
    },
    {
      "cell_type": "code",
      "source": [
        "!pip install torch transformers eli5 lime\n",
        "import torch\n",
        "from transformers import BertTokenizer, BertModel\n",
        "from lime.lime_text import LimeTextExplainer\n",
        "from sklearn.linear_model import LinearRegression\n",
        "import eli5"
      ],
      "metadata": {
        "id": "Xx-28zQPWma5"
      },
      "execution_count": null,
      "outputs": []
    },
    {
      "cell_type": "code",
      "source": [
        "# def predict_with_bert_linear(text):\n",
        "#     with torch.no_grad():\n",
        "#       texts =' '.join(text)\n",
        "#       inputs = tokenizer(texts, return_tensors=\"pt\", padding=True, truncation=True)\n",
        "#       input_ids = inputs['input_ids'].to(device)\n",
        "#       attention_mask = inputs['attention_mask'].to(device)\n",
        "#       logits = model(input_ids, attention_mask)\n",
        "#       logits = logits.view(-1, num_labels, num_classes_per_label)\n",
        "#       _, predicted = torch.max(logits, dim=2)\n",
        "#     return predicted.detach().cpu.numpy()"
      ],
      "metadata": {
        "id": "wLoYUuXXW2VX"
      },
      "execution_count": null,
      "outputs": []
    },
    {
      "cell_type": "code",
      "source": [
        "'''Take a list of strings as input and output a\n",
        " 2d array of prediction probabilities.\n",
        "'''\n",
        "\n",
        "sample_text = [\"I am going to believe in my strengths.Instead of being bogged down by my weaknesses.\"]\n",
        "def predict_with_bert_linear(sample_text):\n",
        "  predictions=[]\n",
        "  examples = []\n",
        "  for text in sample_text:\n",
        "    inputs = tokenizer.encode_plus(text,add_special_tokens=True,\n",
        "          max_length= 160,\n",
        "          truncation=True,\n",
        "          return_token_type_ids=False,\n",
        "          pad_to_max_length=True,\n",
        "          return_attention_mask=True,\n",
        "          return_tensors='pt')\n",
        "    input_ids = inputs['input_ids'].to(device)\n",
        "    attention_mask = inputs['attention_mask'].to(device)\n",
        "    with torch.no_grad():\n",
        "      logits = model(input_ids=input_ids, attention_mask=attention_mask)\n",
        "      #print(logits.data)\n",
        "    logits = logits.view(-1, num_labels, num_classes_per_label)\n",
        "    #print(logits)\n",
        "    predicted = torch.softmax(logits, dim=2)\n",
        "    # Introvert class\n",
        "    predictions.append(predicted.cpu().detach().numpy()[0][0])\n",
        "    # Extrovert class\n",
        "    #predictions.append(np.fliplr(predicted.cpu().detach().numpy())[0][0])\n",
        "    # Intuition class\n",
        "    #predictions.append(predicted.cpu().detach().numpy()[0][1])\n",
        "    # Sensing class\n",
        "    #predictions.append(np.fliplr(predicted.cpu().detach().numpy())[0][1])\n",
        "    # Feeling class\n",
        "    #predictions.append(predicted.cpu().detach().numpy()[0][2])\n",
        "    # Thinking class\n",
        "    #predictions.append(np.fliplr(predicted.cpu().detach().numpy())[0][2])\n",
        "    #Judging class\n",
        "    #predictions.append(predicted.cpu().detach().numpy()[0][3])\n",
        "    # percieving class\n",
        "    predictions.append(np.fliplr(predicted.cpu().detach().numpy())[0][3])\n",
        "  predictions = np.stack(predictions, axis=0)\n",
        "  print(predictions)\n",
        "  return predictions"
      ],
      "metadata": {
        "id": "DxGX907UiUUK"
      },
      "execution_count": null,
      "outputs": []
    },
    {
      "cell_type": "code",
      "source": [
        "sample_text =\"Still the same in France and the UK Beach House is amazing! Id say they were as bad as each other, its just greed on two different scales. Anthropology! Its really fascinating, and can help understand people and culture a lot better. Its a huge domain, with academic books, more casual books, articles as well as films. It covers literally everything people do in groups, in all kinds of communities and cultures of different scales. Oh thats funny! I didnt really notice that at all. Of course, I only kno\"\n",
        "sample_text2=\"The rotors and the discs are the same thing, and yeah just get pictures of the calipers and the discs/rotors through the wheels, just make sure it's lit up nicely. They are boring and slow, literally the opposite of what I want in a bike, so therefore it is horrible. I had one as a courtesy bike, they are crap, If you disagree then fine but I suggest you try out another 125. Second hand DRZ please. From the spec sheet Top speed: How brave are you? Neither are important. By the time we have actually left, \"\n",
        "sample_text3=\"Were you tripping with other people or were you doing it alone? But all that is still part of your subjective reality, those are all just concepts. Even in quantum mechanics, our theories don't really tell us what's true and what's real. They just explain the behavior of things. They're symbols for reality. They're not really real. I don't know ... but as a kid I always had to be keenly aware of my mother's emotional state to avoid her blowing up on me. Might have contributed to me becoming and TYPE_MENTION\"\n",
        "sample_text4 = \"what problem are you trying to solve here, exactly? I have a feeling there's a more suitable approach Would be nice if the post included a benchmark. Saying do this and not that without any empirical motivation has a way of going right through people's ears. which honestly only further underlines his point don't leave me hanging! I think this has potential, so I just thought I'd be honest. You were a pretty good at conveying the concepts for the most part! famous last words or any other place outside of t\"\n",
        "sample_text5 = \"I know right? I can't believe I found this gem.  They seemed ahead of their time with this one especially, like it was predicting the grunge era to come in a few years. Just in time for Dr. Strange! I stopped it when he said Stranger Things was good, but not *great*.  Umm, get the fuck out of here with that kind of opinion. [For those curious, here's a man being bit by several bullet ants.]( Interesting...makes sense to be addicted to an opiate.  Despite what the majority of people think about them (that\"\n",
        "sample_text6 = \"I mean yes, I'm csci too. :Pedit: I do vaguely remember buying books my first semester...edit2: heey you play KSP, cool But I just wanna play rocket league... :/ Weird, I've been there. What kind of camera/lense? yeah i have that i5 processor and p3d v3 works great with it or the bit where the username is DutchGameStudent This. A beer or two or some wine makes housecleaning suddenly pretty enjoyable. Thanks! Chromebooks actually usually work, you just have to set it up manually. The security type is WPA2,\"\n",
        "sample_text7 =\"Interesting. I am an attractive woman in tech sales and to be honest I always felt it was a distraction to my actual competency. Bitch please. I will cut someone who accosts me on my morning jog any day of the week.  Not that I'm on par with some Syrian rebel squads or anything.Let me guess, you're also an All Lives Matter kind of fuck. Because he had support of the people.  HAHAHA I love it, Satan. Hello, it's me you've been waiting for. I literally have people come up to me on the street in NYC and tell m\"\n",
        "sample_text8 = \"P Disney, I’ve come to bargain. Sorry, I had to merge two screenshots, but Reddit wouldn't load all of them at once. [Here is the permalink.]( No, but if you need the shade of paint for the bedroom doors in East, hmu.  S Oh shit really? Where can I move?? What really? It's the only thing that I miss from home. Goodbye. So does that mean that B1046 has the FH connectors right now? I do it for a few weeks, but I get burnt out because I spend over an hour every day trying to document every little thing that ha\"\n",
        "# Create LIME explainer\n",
        "introversion_label_names = ['extroversion','introversion']\n",
        "sensing_intuition_label_names =['sensing','intuition']\n",
        "thinking_feeling_label_names = ['thinking', 'feeling']\n",
        "judging_perceiving_label_names = ['judging','percieving']\n",
        "#explainer = LimeTextExplainer(class_names=introversion_label_names)\n",
        "explainer = LimeTextExplainer(class_names=judging_perceiving_label_names)\n",
        "#explainer = LimeTextExplainer()\n",
        "#train_ls = sample_text.tolist()\n",
        "\n",
        "# Generate explanations using LIME\n",
        "\n",
        "explanation = explainer.explain_instance(text_instance= sample_text7, classifier_fn =predict_with_bert_linear)\n",
        "\n",
        "# Visualize explanations using eli5\n",
        "#eli5.show_weights(explanation, top=10)"
      ],
      "metadata": {
        "id": "834m_fmCW4vy",
        "colab": {
          "base_uri": "https://localhost:8080/"
        },
        "outputId": "9b9f6181-9a46-4552-ebdb-10443e1c2c77"
      },
      "execution_count": null,
      "outputs": [
        {
          "output_type": "stream",
          "name": "stdout",
          "text": [
            "[[0.5635803  0.43641976]\n",
            " [0.6121266  0.3878734 ]\n",
            " [0.65204567 0.34795433]\n",
            " ...\n",
            " [0.63725924 0.36274073]\n",
            " [0.61348075 0.38651925]\n",
            " [0.67938215 0.32061785]]\n"
          ]
        }
      ]
    },
    {
      "cell_type": "code",
      "source": [
        "words = explanation.as_list()\n",
        "print(words)\n",
        "%matplotlib inline\n",
        "fig = explanation.as_pyplot_figure()"
      ],
      "metadata": {
        "colab": {
          "base_uri": "https://localhost:8080/",
          "height": 746
        },
        "id": "ftAVXLymfYYh",
        "outputId": "9339a0b3-657a-4b4a-f1b4-1edfdd5553be"
      },
      "execution_count": null,
      "outputs": [
        {
          "output_type": "stream",
          "name": "stdout",
          "text": [
            "[('love', 0.04137443468878931), ('HAHAHA', 0.02757950383553217), ('I', 0.021429615089793158), ('tech', -0.017612456294970994), ('me', 0.017414029397043236), ('fuck', -0.013380954999009381), ('people', 0.013261893187516673), ('support', 0.011975382117634926), ('sales', -0.009631770830726064), ('competency', -0.0041773658937201)]\n"
          ]
        },
        {
          "output_type": "display_data",
          "data": {
            "text/plain": [
              "<Figure size 1200x800 with 1 Axes>"
            ],
            "image/png": "[encoded data removed]"
          },
          "metadata": {
            "image/png": {
              "width": 1076,
              "height": 691
            }
          }
        }
      ]
    },
    {
      "cell_type": "code",
      "source": [
        "predict_with_bert_linear(sample_text)"
      ],
      "metadata": {
        "colab": {
          "base_uri": "https://localhost:8080/"
        },
        "id": "jAo_jmclSsUl",
        "outputId": "b6ecf712-403e-4e78-8b76-1936bc4c41d9"
      },
      "execution_count": null,
      "outputs": [
        {
          "output_type": "stream",
          "name": "stdout",
          "text": [
            "[[0.6623688 0.3376312]]\n"
          ]
        },
        {
          "output_type": "execute_result",
          "data": {
            "text/plain": [
              "array([[0.6623688, 0.3376312]], dtype=float32)"
            ]
          },
          "metadata": {},
          "execution_count": 26
        }
      ]
    }
  ]
}